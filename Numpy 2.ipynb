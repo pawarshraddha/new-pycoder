{
 "cells": [
  {
   "cell_type": "code",
   "execution_count": 1,
   "metadata": {},
   "outputs": [],
   "source": [
    "import numpy as np"
   ]
  },
  {
   "cell_type": "code",
   "execution_count": 2,
   "metadata": {},
   "outputs": [
    {
     "name": "stdout",
     "output_type": "stream",
     "text": [
      "[[12 13]\n",
      " [12 15]\n",
      " [16 18]\n",
      " [12 10]\n",
      " [11 19]]\n"
     ]
    }
   ],
   "source": [
    "#1\n",
    "a = np.array([12,13,12,15,16,18,12,10,11,19])\n",
    "a = a.reshape(5,2)\n",
    "print(a)"
   ]
  },
  {
   "cell_type": "code",
   "execution_count": 4,
   "metadata": {},
   "outputs": [
    {
     "data": {
      "text/plain": [
       "array([ 1,  3,  4,  7,  8,  9, 10])"
      ]
     },
     "execution_count": 4,
     "metadata": {},
     "output_type": "execute_result"
    }
   ],
   "source": [
    "#2\n",
    "arr = np.array([1,3,4,8,9,3,1,7,4,8,9,10])\n",
    "np.unique(arr)"
   ]
  },
  {
   "cell_type": "code",
   "execution_count": 5,
   "metadata": {},
   "outputs": [
    {
     "name": "stdout",
     "output_type": "stream",
     "text": [
      "[[0 1 0 1 0 1 0 1 0 1]\n",
      " [1 7 7 7 7 7 7 7 7 0]\n",
      " [0 7 7 7 7 7 7 7 7 1]\n",
      " [1 7 7 7 7 7 7 7 7 0]\n",
      " [0 7 7 7 7 7 7 7 7 1]\n",
      " [1 7 7 7 7 7 7 7 7 0]\n",
      " [0 7 7 7 7 7 7 7 7 1]\n",
      " [1 7 7 7 7 7 7 7 7 0]\n",
      " [0 7 7 7 7 7 7 7 7 1]\n",
      " [1 0 1 0 1 0 1 0 1 0]]\n"
     ]
    }
   ],
   "source": [
    "#3\n",
    "P = np.tile( np.array([[0,1],[1,0]]),(5,5))\n",
    "P[1:-1,1:-1] = 7\n",
    "print(P)"
   ]
  },
  {
   "cell_type": "code",
   "execution_count": 12,
   "metadata": {},
   "outputs": [
    {
     "name": "stdout",
     "output_type": "stream",
     "text": [
      "[[20 19]\n",
      " [30 33]]\n"
     ]
    }
   ],
   "source": [
    "#4\n",
    "a1 = np.array([[4,3],[3,6]])\n",
    "a2 = np.array([[2,1],[4,5]])\n",
    "s = np.dot(a1, a2)\n",
    "print(s)"
   ]
  },
  {
   "cell_type": "code",
   "execution_count": null,
   "metadata": {},
   "outputs": [],
   "source": []
  },
  {
   "cell_type": "code",
   "execution_count": null,
   "metadata": {},
   "outputs": [],
   "source": []
  }
 ],
 "metadata": {
  "kernelspec": {
   "display_name": "Python 3",
   "language": "python",
   "name": "python3"
  },
  "language_info": {
   "codemirror_mode": {
    "name": "ipython",
    "version": 3
   },
   "file_extension": ".py",
   "mimetype": "text/x-python",
   "name": "python",
   "nbconvert_exporter": "python",
   "pygments_lexer": "ipython3",
   "version": "3.8.8"
  }
 },
 "nbformat": 4,
 "nbformat_minor": 4
}
