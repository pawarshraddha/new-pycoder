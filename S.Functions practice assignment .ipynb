{
 "cells": [
  {
   "cell_type": "markdown",
   "id": "ff93185c",
   "metadata": {},
   "source": [
    "### Q1-Write a function calculation() such that it can accept two variables and calculate the addition and subtraction of them.\n",
    "\n"
   ]
  },
  {
   "cell_type": "code",
   "execution_count": 1,
   "id": "261a71b3",
   "metadata": {},
   "outputs": [],
   "source": [
    "import numpy as np"
   ]
  },
  {
   "cell_type": "code",
   "execution_count": 2,
   "id": "28c0ecd6",
   "metadata": {},
   "outputs": [
    {
     "name": "stdout",
     "output_type": "stream",
     "text": [
      "7\n",
      "1\n"
     ]
    }
   ],
   "source": [
    "def cals(num1,num2):\n",
    "    print(num1 + num2)\n",
    "    print(num1 - num2)\n",
    "cals(4,3)"
   ]
  },
  {
   "cell_type": "markdown",
   "id": "18ad5406",
   "metadata": {},
   "source": [
    "### Q2-Define a function that will multiply the number with 10 only when the number is positive"
   ]
  },
  {
   "cell_type": "code",
   "execution_count": 3,
   "id": "b536b3e4",
   "metadata": {},
   "outputs": [
    {
     "name": "stdout",
     "output_type": "stream",
     "text": [
      "30\n"
     ]
    }
   ],
   "source": [
    "def st(num):\n",
    "    if num > 0:\n",
    "        num1=num*10\n",
    "        return(num1)\n",
    "print(st(3))"
   ]
  },
  {
   "cell_type": "code",
   "execution_count": null,
   "id": "a1209ff8",
   "metadata": {},
   "outputs": [],
   "source": []
  },
  {
   "cell_type": "code",
   "execution_count": null,
   "id": "edac581f",
   "metadata": {},
   "outputs": [],
   "source": []
  }
 ],
 "metadata": {
  "kernelspec": {
   "display_name": "Python 3",
   "language": "python",
   "name": "python3"
  },
  "language_info": {
   "codemirror_mode": {
    "name": "ipython",
    "version": 3
   },
   "file_extension": ".py",
   "mimetype": "text/x-python",
   "name": "python",
   "nbconvert_exporter": "python",
   "pygments_lexer": "ipython3",
   "version": "3.8.8"
  }
 },
 "nbformat": 4,
 "nbformat_minor": 5
}
