{
 "cells": [
  {
   "cell_type": "code",
   "execution_count": 2,
   "id": "1510fe2c",
   "metadata": {},
   "outputs": [],
   "source": [
    "import pandas as pd                                     #importing all necesary libraries\n",
    "import numpy as np  \n",
    "import seaborn as sns\n",
    "import matplotlib.pyplot as plt  \n"
   ]
  },
  {
   "cell_type": "code",
   "execution_count": 29,
   "id": "acfc9e1c",
   "metadata": {},
   "outputs": [
    {
     "data": {
      "text/html": [
       "<div>\n",
       "<style scoped>\n",
       "    .dataframe tbody tr th:only-of-type {\n",
       "        vertical-align: middle;\n",
       "    }\n",
       "\n",
       "    .dataframe tbody tr th {\n",
       "        vertical-align: top;\n",
       "    }\n",
       "\n",
       "    .dataframe thead th {\n",
       "        text-align: right;\n",
       "    }\n",
       "</style>\n",
       "<table border=\"1\" class=\"dataframe\">\n",
       "  <thead>\n",
       "    <tr style=\"text-align: right;\">\n",
       "      <th></th>\n",
       "      <th>year Experience</th>\n",
       "      <th>salary</th>\n",
       "    </tr>\n",
       "  </thead>\n",
       "  <tbody>\n",
       "    <tr>\n",
       "      <th>0</th>\n",
       "      <td>1.1</td>\n",
       "      <td>39343</td>\n",
       "    </tr>\n",
       "    <tr>\n",
       "      <th>1</th>\n",
       "      <td>1.3</td>\n",
       "      <td>46205</td>\n",
       "    </tr>\n",
       "    <tr>\n",
       "      <th>2</th>\n",
       "      <td>1.5</td>\n",
       "      <td>37731</td>\n",
       "    </tr>\n",
       "    <tr>\n",
       "      <th>3</th>\n",
       "      <td>2.0</td>\n",
       "      <td>43525</td>\n",
       "    </tr>\n",
       "    <tr>\n",
       "      <th>4</th>\n",
       "      <td>2.2</td>\n",
       "      <td>39831</td>\n",
       "    </tr>\n",
       "    <tr>\n",
       "      <th>5</th>\n",
       "      <td>2.5</td>\n",
       "      <td>32651</td>\n",
       "    </tr>\n",
       "    <tr>\n",
       "      <th>6</th>\n",
       "      <td>1.0</td>\n",
       "      <td>12354</td>\n",
       "    </tr>\n",
       "    <tr>\n",
       "      <th>7</th>\n",
       "      <td>2.3</td>\n",
       "      <td>23546</td>\n",
       "    </tr>\n",
       "    <tr>\n",
       "      <th>8</th>\n",
       "      <td>3.2</td>\n",
       "      <td>23654</td>\n",
       "    </tr>\n",
       "    <tr>\n",
       "      <th>9</th>\n",
       "      <td>5.1</td>\n",
       "      <td>39875</td>\n",
       "    </tr>\n",
       "    <tr>\n",
       "      <th>10</th>\n",
       "      <td>2.1</td>\n",
       "      <td>34986</td>\n",
       "    </tr>\n",
       "    <tr>\n",
       "      <th>11</th>\n",
       "      <td>2.0</td>\n",
       "      <td>45128</td>\n",
       "    </tr>\n",
       "    <tr>\n",
       "      <th>12</th>\n",
       "      <td>1.0</td>\n",
       "      <td>43597</td>\n",
       "    </tr>\n",
       "    <tr>\n",
       "      <th>13</th>\n",
       "      <td>1.8</td>\n",
       "      <td>32157</td>\n",
       "    </tr>\n",
       "    <tr>\n",
       "      <th>14</th>\n",
       "      <td>16.0</td>\n",
       "      <td>21984</td>\n",
       "    </tr>\n",
       "    <tr>\n",
       "      <th>15</th>\n",
       "      <td>1.0</td>\n",
       "      <td>43298</td>\n",
       "    </tr>\n",
       "    <tr>\n",
       "      <th>16</th>\n",
       "      <td>1.3</td>\n",
       "      <td>39756</td>\n",
       "    </tr>\n",
       "    <tr>\n",
       "      <th>17</th>\n",
       "      <td>1.2</td>\n",
       "      <td>39476</td>\n",
       "    </tr>\n",
       "    <tr>\n",
       "      <th>18</th>\n",
       "      <td>1.5</td>\n",
       "      <td>34975</td>\n",
       "    </tr>\n",
       "    <tr>\n",
       "      <th>19</th>\n",
       "      <td>2.1</td>\n",
       "      <td>46813</td>\n",
       "    </tr>\n",
       "    <tr>\n",
       "      <th>20</th>\n",
       "      <td>2.0</td>\n",
       "      <td>42651</td>\n",
       "    </tr>\n",
       "    <tr>\n",
       "      <th>21</th>\n",
       "      <td>3.2</td>\n",
       "      <td>43297</td>\n",
       "    </tr>\n",
       "    <tr>\n",
       "      <th>22</th>\n",
       "      <td>1.2</td>\n",
       "      <td>23648</td>\n",
       "    </tr>\n",
       "    <tr>\n",
       "      <th>23</th>\n",
       "      <td>1.6</td>\n",
       "      <td>23498</td>\n",
       "    </tr>\n",
       "  </tbody>\n",
       "</table>\n",
       "</div>"
      ],
      "text/plain": [
       "    year Experience  salary\n",
       "0               1.1   39343\n",
       "1               1.3   46205\n",
       "2               1.5   37731\n",
       "3               2.0   43525\n",
       "4               2.2   39831\n",
       "5               2.5   32651\n",
       "6               1.0   12354\n",
       "7               2.3   23546\n",
       "8               3.2   23654\n",
       "9               5.1   39875\n",
       "10              2.1   34986\n",
       "11              2.0   45128\n",
       "12              1.0   43597\n",
       "13              1.8   32157\n",
       "14             16.0   21984\n",
       "15              1.0   43298\n",
       "16              1.3   39756\n",
       "17              1.2   39476\n",
       "18              1.5   34975\n",
       "19              2.1   46813\n",
       "20              2.0   42651\n",
       "21              3.2   43297\n",
       "22              1.2   23648\n",
       "23              1.6   23498"
      ]
     },
     "execution_count": 29,
     "metadata": {},
     "output_type": "execute_result"
    }
   ],
   "source": [
    "data = pd.read_excel(\"salary.xlsx\")` \n",
    "data"
   ]
  },
  {
   "cell_type": "code",
   "execution_count": 30,
   "id": "1682ecd9",
   "metadata": {},
   "outputs": [
    {
     "data": {
      "text/html": [
       "<div>\n",
       "<style scoped>\n",
       "    .dataframe tbody tr th:only-of-type {\n",
       "        vertical-align: middle;\n",
       "    }\n",
       "\n",
       "    .dataframe tbody tr th {\n",
       "        vertical-align: top;\n",
       "    }\n",
       "\n",
       "    .dataframe thead th {\n",
       "        text-align: right;\n",
       "    }\n",
       "</style>\n",
       "<table border=\"1\" class=\"dataframe\">\n",
       "  <thead>\n",
       "    <tr style=\"text-align: right;\">\n",
       "      <th></th>\n",
       "      <th>year Experience</th>\n",
       "      <th>salary</th>\n",
       "    </tr>\n",
       "  </thead>\n",
       "  <tbody>\n",
       "    <tr>\n",
       "      <th>count</th>\n",
       "      <td>24.000000</td>\n",
       "      <td>24.000000</td>\n",
       "    </tr>\n",
       "    <tr>\n",
       "      <th>mean</th>\n",
       "      <td>2.508333</td>\n",
       "      <td>35582.458333</td>\n",
       "    </tr>\n",
       "    <tr>\n",
       "      <th>std</th>\n",
       "      <td>3.017761</td>\n",
       "      <td>9407.164088</td>\n",
       "    </tr>\n",
       "    <tr>\n",
       "      <th>min</th>\n",
       "      <td>1.000000</td>\n",
       "      <td>12354.000000</td>\n",
       "    </tr>\n",
       "    <tr>\n",
       "      <th>25%</th>\n",
       "      <td>1.275000</td>\n",
       "      <td>30031.250000</td>\n",
       "    </tr>\n",
       "    <tr>\n",
       "      <th>50%</th>\n",
       "      <td>1.900000</td>\n",
       "      <td>39409.500000</td>\n",
       "    </tr>\n",
       "    <tr>\n",
       "      <th>75%</th>\n",
       "      <td>2.225000</td>\n",
       "      <td>43297.250000</td>\n",
       "    </tr>\n",
       "    <tr>\n",
       "      <th>max</th>\n",
       "      <td>16.000000</td>\n",
       "      <td>46813.000000</td>\n",
       "    </tr>\n",
       "  </tbody>\n",
       "</table>\n",
       "</div>"
      ],
      "text/plain": [
       "       year Experience        salary\n",
       "count        24.000000     24.000000\n",
       "mean          2.508333  35582.458333\n",
       "std           3.017761   9407.164088\n",
       "min           1.000000  12354.000000\n",
       "25%           1.275000  30031.250000\n",
       "50%           1.900000  39409.500000\n",
       "75%           2.225000  43297.250000\n",
       "max          16.000000  46813.000000"
      ]
     },
     "execution_count": 30,
     "metadata": {},
     "output_type": "execute_result"
    }
   ],
   "source": [
    "data.describe()                                              #describing the data"
   ]
  },
  {
   "cell_type": "code",
   "execution_count": 31,
   "id": "ab5cdb86",
   "metadata": {},
   "outputs": [
    {
     "data": {
      "image/png": "[encoded data removed]",
      "text/plain": [
       "<Figure size 432x288 with 1 Axes>"
      ]
     },
     "metadata": {
      "needs_background": "light"
     },
     "output_type": "display_data"
    }
   ],
   "source": [
    "data.plot(x='year Experience', y='salary', style='o')  \n",
    "plt.title('year Experience vs salary', fontsize= 18)      # Plotting the distribution of scores\n",
    "plt.xlabel('year Experience',fontsize = 10)  \n",
    "plt.ylabel('salary', fontsize = 10)  \n",
    "plt.show()"
   ]
  },
  {
   "cell_type": "code",
   "execution_count": null,
   "id": "ccaed6f3",
   "metadata": {},
   "outputs": [],
   "source": []
  },
  {
   "cell_type": "markdown",
   "id": "eedaf079",
   "metadata": {},
   "source": [
    "#### Preparing the data for analysis"
   ]
  },
  {
   "cell_type": "code",
   "execution_count": 32,
   "id": "0178326c",
   "metadata": {},
   "outputs": [
    {
     "data": {
      "text/plain": [
       "array([[ 1.1],\n",
       "       [ 1.3],\n",
       "       [ 1.5],\n",
       "       [ 2. ],\n",
       "       [ 2.2],\n",
       "       [ 2.5],\n",
       "       [ 1. ],\n",
       "       [ 2.3],\n",
       "       [ 3.2],\n",
       "       [ 5.1],\n",
       "       [ 2.1],\n",
       "       [ 2. ],\n",
       "       [ 1. ],\n",
       "       [ 1.8],\n",
       "       [16. ],\n",
       "       [ 1. ],\n",
       "       [ 1.3],\n",
       "       [ 1.2],\n",
       "       [ 1.5],\n",
       "       [ 2.1],\n",
       "       [ 2. ],\n",
       "       [ 3.2],\n",
       "       [ 1.2],\n",
       "       [ 1.6]])"
      ]
     },
     "execution_count": 32,
     "metadata": {},
     "output_type": "execute_result"
    }
   ],
   "source": [
    "X = data.iloc[:, :-1].values  #selecting column no. of hours of study\n",
    "y = data.iloc[:, 1].values    #selecting scores column\n",
    "X"
   ]
  },
  {
   "cell_type": "code",
   "execution_count": 33,
   "id": "25ce51d7",
   "metadata": {},
   "outputs": [],
   "source": [
    "from sklearn.model_selection import train_test_split  \n",
    "X_train, X_test, y_train, y_test = train_test_split(X, y,             #splitting the data into training and testing sets\n",
    "                            test_size=0.2, random_state=0)            #using scikit-learn's built in function "
   ]
  },
  {
   "cell_type": "markdown",
   "id": "5293f3e4",
   "metadata": {},
   "source": [
    "#### Training the Algorithm"
   ]
  },
  {
   "cell_type": "code",
   "execution_count": 34,
   "id": "2948829a",
   "metadata": {},
   "outputs": [
    {
     "name": "stdout",
     "output_type": "stream",
     "text": [
      "Training completed\n"
     ]
    }
   ],
   "source": [
    "from sklearn.linear_model import LinearRegression                     #Training the data\n",
    "regressor = LinearRegression()  \n",
    "regressor.fit(X_train, y_train) \n",
    "\n",
    "print(\"Training completed\")"
   ]
  },
  {
   "cell_type": "code",
   "execution_count": 35,
   "id": "921dc8f9",
   "metadata": {},
   "outputs": [
    {
     "data": {
      "image/png": "[encoded data removed]",
      "text/plain": [
       "<Figure size 432x288 with 1 Axes>"
      ]
     },
     "metadata": {
      "needs_background": "light"
     },
     "output_type": "display_data"
    }
   ],
   "source": [
    "line = regressor.coef_*X+regressor.intercept_                          # Plotting the regression line\n",
    "plt.scatter(X, y)                                                       #training dataset regression line\n",
    "plt.plot(X, line, color = \"red\");\n",
    "plt.xlabel(\"year Experience\", fontsize = 10)\n",
    "plt.ylabel(\"salary\", fontsize = 10)\n",
    "plt.title(\"Regression Line - Train set\", fontsize = 15,)\n",
    "plt.show()"
   ]
  },
  {
   "cell_type": "markdown",
   "id": "284fa652",
   "metadata": {},
   "source": [
    "#### Making the predictions"
   ]
  },
  {
   "cell_type": "code",
   "execution_count": 36,
   "id": "006b6033",
   "metadata": {},
   "outputs": [
    {
     "name": "stdout",
     "output_type": "stream",
     "text": [
      "[[ 2. ]\n",
      " [ 2.1]\n",
      " [ 1.2]\n",
      " [16. ]\n",
      " [ 2. ]]\n"
     ]
    }
   ],
   "source": [
    "print(X_test)                                                      # Testing data - In Hours\n",
    "y_pred = regressor.predict(X_test)                                 # Predicting the scores"
   ]
  },
  {
   "cell_type": "code",
   "execution_count": 37,
   "id": "8c2cc3c9",
   "metadata": {},
   "outputs": [
    {
     "data": {
      "text/plain": [
       "array([36086.58561587, 36092.32440691, 36040.67528752, 36890.01636202,\n",
       "       36086.58561587])"
      ]
     },
     "execution_count": 37,
     "metadata": {},
     "output_type": "execute_result"
    }
   ],
   "source": [
    "y_pred"
   ]
  },
  {
   "cell_type": "code",
   "execution_count": 38,
   "id": "5adb4b74",
   "metadata": {},
   "outputs": [
    {
     "data": {
      "text/plain": [
       "{'copy_X': True,\n",
       " 'fit_intercept': True,\n",
       " 'n_jobs': None,\n",
       " 'normalize': False,\n",
       " 'positive': False}"
      ]
     },
     "execution_count": 38,
     "metadata": {},
     "output_type": "execute_result"
    }
   ],
   "source": [
    "#Parameters used for the model df = pd.DataFrame({'Actual': y_test, 'Predicted': y_pred})          #Comparison between predicted and test data\n",
    "df \n",
    "regressor.get_params()"
   ]
  },
  {
   "cell_type": "code",
   "execution_count": 39,
   "id": "dadfca42",
   "metadata": {},
   "outputs": [
    {
     "data": {
      "text/html": [
       "<div>\n",
       "<style scoped>\n",
       "    .dataframe tbody tr th:only-of-type {\n",
       "        vertical-align: middle;\n",
       "    }\n",
       "\n",
       "    .dataframe tbody tr th {\n",
       "        vertical-align: top;\n",
       "    }\n",
       "\n",
       "    .dataframe thead th {\n",
       "        text-align: right;\n",
       "    }\n",
       "</style>\n",
       "<table border=\"1\" class=\"dataframe\">\n",
       "  <thead>\n",
       "    <tr style=\"text-align: right;\">\n",
       "      <th></th>\n",
       "      <th>Actual</th>\n",
       "      <th>Predicted</th>\n",
       "    </tr>\n",
       "  </thead>\n",
       "  <tbody>\n",
       "    <tr>\n",
       "      <th>0</th>\n",
       "      <td>45128</td>\n",
       "      <td>36086.585616</td>\n",
       "    </tr>\n",
       "    <tr>\n",
       "      <th>1</th>\n",
       "      <td>34986</td>\n",
       "      <td>36092.324407</td>\n",
       "    </tr>\n",
       "    <tr>\n",
       "      <th>2</th>\n",
       "      <td>23648</td>\n",
       "      <td>36040.675288</td>\n",
       "    </tr>\n",
       "    <tr>\n",
       "      <th>3</th>\n",
       "      <td>21984</td>\n",
       "      <td>36890.016362</td>\n",
       "    </tr>\n",
       "    <tr>\n",
       "      <th>4</th>\n",
       "      <td>42651</td>\n",
       "      <td>36086.585616</td>\n",
       "    </tr>\n",
       "  </tbody>\n",
       "</table>\n",
       "</div>"
      ],
      "text/plain": [
       "   Actual     Predicted\n",
       "0   45128  36086.585616\n",
       "1   34986  36092.324407\n",
       "2   23648  36040.675288\n",
       "3   21984  36890.016362\n",
       "4   42651  36086.585616"
      ]
     },
     "execution_count": 39,
     "metadata": {},
     "output_type": "execute_result"
    }
   ],
   "source": [
    "df = pd.DataFrame({'Actual': y_test, 'Predicted': y_pred})          #Comparison between predicted and test data\n",
    "df "
   ]
  },
  {
   "cell_type": "code",
   "execution_count": 40,
   "id": "789809b3",
   "metadata": {},
   "outputs": [
    {
     "data": {
      "image/png": "[encoded data removed]",
      "text/plain": [
       "<Figure size 432x288 with 1 Axes>"
      ]
     },
     "metadata": {
      "needs_background": "light"
     },
     "output_type": "display_data"
    }
   ],
   "source": [
    "plt.plot(X_test, y_pred, color = \"red\") \n",
    "plt.scatter(X_test, y_test, color = \"blue\")                          #Using scatter plot for test data set\n",
    "plt.xlabel(\"year Experience\", fontsize = 10)\n",
    "plt.ylabel(\"salary\", fontsize = 10)\n",
    "plt.title(\"Regression line- Test set\", fontsize =15)\n",
    "plt.show()"
   ]
  },
  {
   "cell_type": "markdown",
   "id": "5af40235",
   "metadata": {},
   "source": [
    "#### Evaluation of model "
   ]
  },
  {
   "cell_type": "markdown",
   "id": "2e1a03e2",
   "metadata": {},
   "source": [
    "#### Accuracy of the Model"
   ]
  },
  {
   "cell_type": "code",
   "execution_count": 46,
   "id": "9300f010",
   "metadata": {},
   "outputs": [
    {
     "name": "stdout",
     "output_type": "stream",
     "text": [
      "R_square = -0.11349943652297156\n"
     ]
    }
   ],
   "source": [
    "from sklearn import metrics\n",
    "print(\"R_square =\", metrics.r2_score(y_test, y_pred))"
   ]
  },
  {
   "cell_type": "code",
   "execution_count": null,
   "id": "e18934ca",
   "metadata": {},
   "outputs": [],
   "source": []
  },
  {
   "cell_type": "markdown",
   "id": "1a5547b6",
   "metadata": {},
   "source": [
    "#### Prediction of score"
   ]
  },
  {
   "cell_type": "code",
   "execution_count": 42,
   "id": "6d814e07",
   "metadata": {},
   "outputs": [
    {
     "name": "stdout",
     "output_type": "stream",
     "text": [
      "for higher salary need year of experience 2.0 =  [36086.58561587]\n"
     ]
    }
   ],
   "source": [
    "predict_score = regressor.predict([[2.0]])\n",
    "print(\"for higher salary need year of experience 2.0 = \", predict_score)"
   ]
  },
  {
   "cell_type": "code",
   "execution_count": 43,
   "id": "fb9efc9f",
   "metadata": {},
   "outputs": [
    {
     "name": "stdout",
     "output_type": "stream",
     "text": [
      "Mean Square Error 100366077.70643015\n"
     ]
    }
   ],
   "source": [
    "print('Mean Square Error', metrics.mean_squared_error(y_test, y_pred))"
   ]
  },
  {
   "cell_type": "code",
   "execution_count": null,
   "id": "a9d24261",
   "metadata": {},
   "outputs": [],
   "source": []
  },
  {
   "cell_type": "code",
   "execution_count": null,
   "id": "bbad6bce",
   "metadata": {},
   "outputs": [],
   "source": []
  }
 ],
 "metadata": {
  "kernelspec": {
   "display_name": "Python 3",
   "language": "python",
   "name": "python3"
  },
  "language_info": {
   "codemirror_mode": {
    "name": "ipython",
    "version": 3
   },
   "file_extension": ".py",
   "mimetype": "text/x-python",
   "name": "python",
   "nbconvert_exporter": "python",
   "pygments_lexer": "ipython3",
   "version": "3.8.8"
  }
 },
 "nbformat": 4,
 "nbformat_minor": 5
}
