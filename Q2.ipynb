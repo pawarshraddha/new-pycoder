{
 "cells": [
  {
   "cell_type": "markdown",
   "id": "2e3c5e4a",
   "metadata": {},
   "source": []
  },
  {
   "cell_type": "markdown",
   "id": "f6048178",
   "metadata": {},
   "source": [
    "### Importing libraries and data"
   ]
  },
  {
   "cell_type": "code",
   "execution_count": 2,
   "id": "d3a2a69a",
   "metadata": {},
   "outputs": [],
   "source": [
    "import pandas as pd\n",
    "import matplotlib.pyplot as plt\n",
    "import seaborn as sns\n",
    "import numpy as np\n"
   ]
  },
  {
   "cell_type": "code",
   "execution_count": 3,
   "id": "5b59dd6c",
   "metadata": {},
   "outputs": [
    {
     "data": {
      "text/html": [
       "<div>\n",
       "<style scoped>\n",
       "    .dataframe tbody tr th:only-of-type {\n",
       "        vertical-align: middle;\n",
       "    }\n",
       "\n",
       "    .dataframe tbody tr th {\n",
       "        vertical-align: top;\n",
       "    }\n",
       "\n",
       "    .dataframe thead th {\n",
       "        text-align: right;\n",
       "    }\n",
       "</style>\n",
       "<table border=\"1\" class=\"dataframe\">\n",
       "  <thead>\n",
       "    <tr style=\"text-align: right;\">\n",
       "      <th></th>\n",
       "      <th>Candidate Name</th>\n",
       "      <th>Email</th>\n",
       "      <th>Department Code</th>\n",
       "      <th>Clarity of questions</th>\n",
       "      <th>Usability of Test Interface</th>\n",
       "      <th>Usability of Code Editor</th>\n",
       "      <th>Fairness of skill assessment</th>\n",
       "      <th>Extra Comment</th>\n",
       "    </tr>\n",
       "  </thead>\n",
       "  <tbody>\n",
       "    <tr>\n",
       "      <th>0</th>\n",
       "      <td>Beecher</td>\n",
       "      <td>Beecher1970@yahoo.com</td>\n",
       "      <td>B</td>\n",
       "      <td>4.0</td>\n",
       "      <td>4.0</td>\n",
       "      <td>4.0</td>\n",
       "      <td>4.0</td>\n",
       "      <td>NaN</td>\n",
       "    </tr>\n",
       "    <tr>\n",
       "      <th>1</th>\n",
       "      <td>Kelsie</td>\n",
       "      <td>Kelsie1983@yahoo.com</td>\n",
       "      <td>D</td>\n",
       "      <td>5.0</td>\n",
       "      <td>1.0</td>\n",
       "      <td>5.0</td>\n",
       "      <td>5.0</td>\n",
       "      <td>Please provide all test cases available to pro...</td>\n",
       "    </tr>\n",
       "    <tr>\n",
       "      <th>2</th>\n",
       "      <td>Gianni</td>\n",
       "      <td>Gianni1981@</td>\n",
       "      <td>B</td>\n",
       "      <td>3.0</td>\n",
       "      <td>3.0</td>\n",
       "      <td>3.0</td>\n",
       "      <td>3.0</td>\n",
       "      <td>NaN</td>\n",
       "    </tr>\n",
       "    <tr>\n",
       "      <th>3</th>\n",
       "      <td>Clemmie</td>\n",
       "      <td>Clemmie1983@gmail.com</td>\n",
       "      <td>A</td>\n",
       "      <td>3.0</td>\n",
       "      <td>3.0</td>\n",
       "      <td>3.0</td>\n",
       "      <td>3.0</td>\n",
       "      <td>NaN</td>\n",
       "    </tr>\n",
       "    <tr>\n",
       "      <th>4</th>\n",
       "      <td>Jerel</td>\n",
       "      <td>Jerel1987@gmail.com</td>\n",
       "      <td>D</td>\n",
       "      <td>4.0</td>\n",
       "      <td>4.0</td>\n",
       "      <td>4.0</td>\n",
       "      <td>3.0</td>\n",
       "      <td>NaN</td>\n",
       "    </tr>\n",
       "    <tr>\n",
       "      <th>...</th>\n",
       "      <td>...</td>\n",
       "      <td>...</td>\n",
       "      <td>...</td>\n",
       "      <td>...</td>\n",
       "      <td>...</td>\n",
       "      <td>...</td>\n",
       "      <td>...</td>\n",
       "      <td>...</td>\n",
       "    </tr>\n",
       "    <tr>\n",
       "      <th>1032</th>\n",
       "      <td>Jayda</td>\n",
       "      <td>Jayda1975@</td>\n",
       "      <td>A</td>\n",
       "      <td>5.0</td>\n",
       "      <td>5.0</td>\n",
       "      <td>5.0</td>\n",
       "      <td>5.0</td>\n",
       "      <td>NaN</td>\n",
       "    </tr>\n",
       "    <tr>\n",
       "      <th>1033</th>\n",
       "      <td>Harmony</td>\n",
       "      <td>Harmony1971@yahoo.com</td>\n",
       "      <td>C</td>\n",
       "      <td>5.0</td>\n",
       "      <td>3.0</td>\n",
       "      <td>3.0</td>\n",
       "      <td>4.0</td>\n",
       "      <td>NaN</td>\n",
       "    </tr>\n",
       "    <tr>\n",
       "      <th>1034</th>\n",
       "      <td>Illya</td>\n",
       "      <td>Illya1989@gmail.com</td>\n",
       "      <td>A</td>\n",
       "      <td>4.0</td>\n",
       "      <td>4.0</td>\n",
       "      <td>4.0</td>\n",
       "      <td>3.0</td>\n",
       "      <td>NaN</td>\n",
       "    </tr>\n",
       "    <tr>\n",
       "      <th>1035</th>\n",
       "      <td>Raekwon</td>\n",
       "      <td>Raekwon1978@yahoo.com</td>\n",
       "      <td>F</td>\n",
       "      <td>4.0</td>\n",
       "      <td>3.0</td>\n",
       "      <td>5.0</td>\n",
       "      <td>3.0</td>\n",
       "      <td>NaN</td>\n",
       "    </tr>\n",
       "    <tr>\n",
       "      <th>1036</th>\n",
       "      <td>Hosteen</td>\n",
       "      <td>Hosteen1989@yahoo.com</td>\n",
       "      <td>E</td>\n",
       "      <td>4.0</td>\n",
       "      <td>4.0</td>\n",
       "      <td>4.0</td>\n",
       "      <td>4.0</td>\n",
       "      <td>NaN</td>\n",
       "    </tr>\n",
       "  </tbody>\n",
       "</table>\n",
       "<p>1037 rows × 8 columns</p>\n",
       "</div>"
      ],
      "text/plain": [
       "     Candidate Name                  Email Department Code  \\\n",
       "0           Beecher  Beecher1970@yahoo.com               B   \n",
       "1            Kelsie   Kelsie1983@yahoo.com               D   \n",
       "2            Gianni            Gianni1981@               B   \n",
       "3           Clemmie  Clemmie1983@gmail.com               A   \n",
       "4             Jerel    Jerel1987@gmail.com               D   \n",
       "...             ...                    ...             ...   \n",
       "1032          Jayda             Jayda1975@               A   \n",
       "1033        Harmony  Harmony1971@yahoo.com               C   \n",
       "1034          Illya    Illya1989@gmail.com               A   \n",
       "1035        Raekwon  Raekwon1978@yahoo.com               F   \n",
       "1036        Hosteen  Hosteen1989@yahoo.com               E   \n",
       "\n",
       "      Clarity of questions  Usability of Test Interface  \\\n",
       "0                      4.0                          4.0   \n",
       "1                      5.0                          1.0   \n",
       "2                      3.0                          3.0   \n",
       "3                      3.0                          3.0   \n",
       "4                      4.0                          4.0   \n",
       "...                    ...                          ...   \n",
       "1032                   5.0                          5.0   \n",
       "1033                   5.0                          3.0   \n",
       "1034                   4.0                          4.0   \n",
       "1035                   4.0                          3.0   \n",
       "1036                   4.0                          4.0   \n",
       "\n",
       "      Usability of Code Editor  Fairness of skill assessment  \\\n",
       "0                          4.0                           4.0   \n",
       "1                          5.0                           5.0   \n",
       "2                          3.0                           3.0   \n",
       "3                          3.0                           3.0   \n",
       "4                          4.0                           3.0   \n",
       "...                        ...                           ...   \n",
       "1032                       5.0                           5.0   \n",
       "1033                       3.0                           4.0   \n",
       "1034                       4.0                           3.0   \n",
       "1035                       5.0                           3.0   \n",
       "1036                       4.0                           4.0   \n",
       "\n",
       "                                          Extra Comment  \n",
       "0                                                   NaN  \n",
       "1     Please provide all test cases available to pro...  \n",
       "2                                                   NaN  \n",
       "3                                                   NaN  \n",
       "4                                                   NaN  \n",
       "...                                                 ...  \n",
       "1032                                                NaN  \n",
       "1033                                                NaN  \n",
       "1034                                                NaN  \n",
       "1035                                                NaN  \n",
       "1036                                                NaN  \n",
       "\n",
       "[1037 rows x 8 columns]"
      ]
     },
     "execution_count": 3,
     "metadata": {},
     "output_type": "execute_result"
    }
   ],
   "source": [
    "data=pd.read_csv('datasetexam.csv')\n",
    "data"
   ]
  },
  {
   "cell_type": "markdown",
   "id": "b4d8493c",
   "metadata": {},
   "source": [
    "### Introductory Details About Data"
   ]
  },
  {
   "cell_type": "code",
   "execution_count": 4,
   "id": "b835c34a",
   "metadata": {},
   "outputs": [
    {
     "data": {
      "text/html": [
       "<div>\n",
       "<style scoped>\n",
       "    .dataframe tbody tr th:only-of-type {\n",
       "        vertical-align: middle;\n",
       "    }\n",
       "\n",
       "    .dataframe tbody tr th {\n",
       "        vertical-align: top;\n",
       "    }\n",
       "\n",
       "    .dataframe thead th {\n",
       "        text-align: right;\n",
       "    }\n",
       "</style>\n",
       "<table border=\"1\" class=\"dataframe\">\n",
       "  <thead>\n",
       "    <tr style=\"text-align: right;\">\n",
       "      <th></th>\n",
       "      <th>Candidate Name</th>\n",
       "      <th>Email</th>\n",
       "      <th>Department Code</th>\n",
       "      <th>Clarity of questions</th>\n",
       "      <th>Usability of Test Interface</th>\n",
       "      <th>Usability of Code Editor</th>\n",
       "      <th>Fairness of skill assessment</th>\n",
       "      <th>Extra Comment</th>\n",
       "    </tr>\n",
       "  </thead>\n",
       "  <tbody>\n",
       "    <tr>\n",
       "      <th>0</th>\n",
       "      <td>Beecher</td>\n",
       "      <td>Beecher1970@yahoo.com</td>\n",
       "      <td>B</td>\n",
       "      <td>4.0</td>\n",
       "      <td>4.0</td>\n",
       "      <td>4.0</td>\n",
       "      <td>4.0</td>\n",
       "      <td>NaN</td>\n",
       "    </tr>\n",
       "    <tr>\n",
       "      <th>1</th>\n",
       "      <td>Kelsie</td>\n",
       "      <td>Kelsie1983@yahoo.com</td>\n",
       "      <td>D</td>\n",
       "      <td>5.0</td>\n",
       "      <td>1.0</td>\n",
       "      <td>5.0</td>\n",
       "      <td>5.0</td>\n",
       "      <td>Please provide all test cases available to pro...</td>\n",
       "    </tr>\n",
       "    <tr>\n",
       "      <th>2</th>\n",
       "      <td>Gianni</td>\n",
       "      <td>Gianni1981@</td>\n",
       "      <td>B</td>\n",
       "      <td>3.0</td>\n",
       "      <td>3.0</td>\n",
       "      <td>3.0</td>\n",
       "      <td>3.0</td>\n",
       "      <td>NaN</td>\n",
       "    </tr>\n",
       "    <tr>\n",
       "      <th>3</th>\n",
       "      <td>Clemmie</td>\n",
       "      <td>Clemmie1983@gmail.com</td>\n",
       "      <td>A</td>\n",
       "      <td>3.0</td>\n",
       "      <td>3.0</td>\n",
       "      <td>3.0</td>\n",
       "      <td>3.0</td>\n",
       "      <td>NaN</td>\n",
       "    </tr>\n",
       "    <tr>\n",
       "      <th>4</th>\n",
       "      <td>Jerel</td>\n",
       "      <td>Jerel1987@gmail.com</td>\n",
       "      <td>D</td>\n",
       "      <td>4.0</td>\n",
       "      <td>4.0</td>\n",
       "      <td>4.0</td>\n",
       "      <td>3.0</td>\n",
       "      <td>NaN</td>\n",
       "    </tr>\n",
       "  </tbody>\n",
       "</table>\n",
       "</div>"
      ],
      "text/plain": [
       "  Candidate Name                  Email Department Code  Clarity of questions  \\\n",
       "0        Beecher  Beecher1970@yahoo.com               B                   4.0   \n",
       "1         Kelsie   Kelsie1983@yahoo.com               D                   5.0   \n",
       "2         Gianni            Gianni1981@               B                   3.0   \n",
       "3        Clemmie  Clemmie1983@gmail.com               A                   3.0   \n",
       "4          Jerel    Jerel1987@gmail.com               D                   4.0   \n",
       "\n",
       "   Usability of Test Interface  Usability of Code Editor  \\\n",
       "0                          4.0                       4.0   \n",
       "1                          1.0                       5.0   \n",
       "2                          3.0                       3.0   \n",
       "3                          3.0                       3.0   \n",
       "4                          4.0                       4.0   \n",
       "\n",
       "   Fairness of skill assessment  \\\n",
       "0                           4.0   \n",
       "1                           5.0   \n",
       "2                           3.0   \n",
       "3                           3.0   \n",
       "4                           3.0   \n",
       "\n",
       "                                       Extra Comment  \n",
       "0                                                NaN  \n",
       "1  Please provide all test cases available to pro...  \n",
       "2                                                NaN  \n",
       "3                                                NaN  \n",
       "4                                                NaN  "
      ]
     },
     "execution_count": 4,
     "metadata": {},
     "output_type": "execute_result"
    }
   ],
   "source": [
    "data.head()"
   ]
  },
  {
   "cell_type": "code",
   "execution_count": 5,
   "id": "fc87be25",
   "metadata": {},
   "outputs": [
    {
     "data": {
      "text/html": [
       "<div>\n",
       "<style scoped>\n",
       "    .dataframe tbody tr th:only-of-type {\n",
       "        vertical-align: middle;\n",
       "    }\n",
       "\n",
       "    .dataframe tbody tr th {\n",
       "        vertical-align: top;\n",
       "    }\n",
       "\n",
       "    .dataframe thead th {\n",
       "        text-align: right;\n",
       "    }\n",
       "</style>\n",
       "<table border=\"1\" class=\"dataframe\">\n",
       "  <thead>\n",
       "    <tr style=\"text-align: right;\">\n",
       "      <th></th>\n",
       "      <th>Candidate Name</th>\n",
       "      <th>Email</th>\n",
       "      <th>Department Code</th>\n",
       "      <th>Clarity of questions</th>\n",
       "      <th>Usability of Test Interface</th>\n",
       "      <th>Usability of Code Editor</th>\n",
       "      <th>Fairness of skill assessment</th>\n",
       "      <th>Extra Comment</th>\n",
       "    </tr>\n",
       "  </thead>\n",
       "  <tbody>\n",
       "    <tr>\n",
       "      <th>1032</th>\n",
       "      <td>Jayda</td>\n",
       "      <td>Jayda1975@</td>\n",
       "      <td>A</td>\n",
       "      <td>5.0</td>\n",
       "      <td>5.0</td>\n",
       "      <td>5.0</td>\n",
       "      <td>5.0</td>\n",
       "      <td>NaN</td>\n",
       "    </tr>\n",
       "    <tr>\n",
       "      <th>1033</th>\n",
       "      <td>Harmony</td>\n",
       "      <td>Harmony1971@yahoo.com</td>\n",
       "      <td>C</td>\n",
       "      <td>5.0</td>\n",
       "      <td>3.0</td>\n",
       "      <td>3.0</td>\n",
       "      <td>4.0</td>\n",
       "      <td>NaN</td>\n",
       "    </tr>\n",
       "    <tr>\n",
       "      <th>1034</th>\n",
       "      <td>Illya</td>\n",
       "      <td>Illya1989@gmail.com</td>\n",
       "      <td>A</td>\n",
       "      <td>4.0</td>\n",
       "      <td>4.0</td>\n",
       "      <td>4.0</td>\n",
       "      <td>3.0</td>\n",
       "      <td>NaN</td>\n",
       "    </tr>\n",
       "    <tr>\n",
       "      <th>1035</th>\n",
       "      <td>Raekwon</td>\n",
       "      <td>Raekwon1978@yahoo.com</td>\n",
       "      <td>F</td>\n",
       "      <td>4.0</td>\n",
       "      <td>3.0</td>\n",
       "      <td>5.0</td>\n",
       "      <td>3.0</td>\n",
       "      <td>NaN</td>\n",
       "    </tr>\n",
       "    <tr>\n",
       "      <th>1036</th>\n",
       "      <td>Hosteen</td>\n",
       "      <td>Hosteen1989@yahoo.com</td>\n",
       "      <td>E</td>\n",
       "      <td>4.0</td>\n",
       "      <td>4.0</td>\n",
       "      <td>4.0</td>\n",
       "      <td>4.0</td>\n",
       "      <td>NaN</td>\n",
       "    </tr>\n",
       "  </tbody>\n",
       "</table>\n",
       "</div>"
      ],
      "text/plain": [
       "     Candidate Name                  Email Department Code  \\\n",
       "1032          Jayda             Jayda1975@               A   \n",
       "1033        Harmony  Harmony1971@yahoo.com               C   \n",
       "1034          Illya    Illya1989@gmail.com               A   \n",
       "1035        Raekwon  Raekwon1978@yahoo.com               F   \n",
       "1036        Hosteen  Hosteen1989@yahoo.com               E   \n",
       "\n",
       "      Clarity of questions  Usability of Test Interface  \\\n",
       "1032                   5.0                          5.0   \n",
       "1033                   5.0                          3.0   \n",
       "1034                   4.0                          4.0   \n",
       "1035                   4.0                          3.0   \n",
       "1036                   4.0                          4.0   \n",
       "\n",
       "      Usability of Code Editor  Fairness of skill assessment Extra Comment  \n",
       "1032                       5.0                           5.0           NaN  \n",
       "1033                       3.0                           4.0           NaN  \n",
       "1034                       4.0                           3.0           NaN  \n",
       "1035                       5.0                           3.0           NaN  \n",
       "1036                       4.0                           4.0           NaN  "
      ]
     },
     "execution_count": 5,
     "metadata": {},
     "output_type": "execute_result"
    }
   ],
   "source": [
    "data.tail()"
   ]
  },
  {
   "cell_type": "code",
   "execution_count": 7,
   "id": "decb8347",
   "metadata": {},
   "outputs": [
    {
     "data": {
      "text/plain": [
       "(1037, 8)"
      ]
     },
     "execution_count": 7,
     "metadata": {},
     "output_type": "execute_result"
    }
   ],
   "source": [
    "data.shape"
   ]
  },
  {
   "cell_type": "code",
   "execution_count": 8,
   "id": "13fcaced",
   "metadata": {},
   "outputs": [
    {
     "name": "stdout",
     "output_type": "stream",
     "text": [
      "<class 'pandas.core.frame.DataFrame'>\n",
      "RangeIndex: 1037 entries, 0 to 1036\n",
      "Data columns (total 8 columns):\n",
      " #   Column                        Non-Null Count  Dtype  \n",
      "---  ------                        --------------  -----  \n",
      " 0   Candidate Name                1037 non-null   object \n",
      " 1   Email                         1037 non-null   object \n",
      " 2   Department Code               1037 non-null   object \n",
      " 3   Clarity of questions          1017 non-null   float64\n",
      " 4   Usability of Test Interface   995 non-null    float64\n",
      " 5   Usability of Code Editor      985 non-null    float64\n",
      " 6   Fairness of skill assessment  974 non-null    float64\n",
      " 7   Extra Comment                 109 non-null    object \n",
      "dtypes: float64(4), object(4)\n",
      "memory usage: 64.9+ KB\n"
     ]
    }
   ],
   "source": [
    "data.info()"
   ]
  },
  {
   "cell_type": "code",
   "execution_count": 9,
   "id": "02dbec01",
   "metadata": {},
   "outputs": [
    {
     "name": "stdout",
     "output_type": "stream",
     "text": [
      "Index(['Candidate Name', 'Email', 'Department Code', 'Clarity of questions',\n",
      "       'Usability of Test Interface', 'Usability of Code Editor',\n",
      "       'Fairness of skill assessment', 'Extra Comment'],\n",
      "      dtype='object')\n"
     ]
    }
   ],
   "source": [
    "print(data.columns)"
   ]
  },
  {
   "cell_type": "markdown",
   "id": "438343bc",
   "metadata": {},
   "source": [
    "### Statistical Insights"
   ]
  },
  {
   "cell_type": "code",
   "execution_count": 10,
   "id": "ade2c3dd",
   "metadata": {},
   "outputs": [
    {
     "data": {
      "text/html": [
       "<div>\n",
       "<style scoped>\n",
       "    .dataframe tbody tr th:only-of-type {\n",
       "        vertical-align: middle;\n",
       "    }\n",
       "\n",
       "    .dataframe tbody tr th {\n",
       "        vertical-align: top;\n",
       "    }\n",
       "\n",
       "    .dataframe thead th {\n",
       "        text-align: right;\n",
       "    }\n",
       "</style>\n",
       "<table border=\"1\" class=\"dataframe\">\n",
       "  <thead>\n",
       "    <tr style=\"text-align: right;\">\n",
       "      <th></th>\n",
       "      <th>Clarity of questions</th>\n",
       "      <th>Usability of Test Interface</th>\n",
       "      <th>Usability of Code Editor</th>\n",
       "      <th>Fairness of skill assessment</th>\n",
       "    </tr>\n",
       "  </thead>\n",
       "  <tbody>\n",
       "    <tr>\n",
       "      <th>count</th>\n",
       "      <td>1017.000000</td>\n",
       "      <td>995.000000</td>\n",
       "      <td>985.000000</td>\n",
       "      <td>974.000000</td>\n",
       "    </tr>\n",
       "    <tr>\n",
       "      <th>mean</th>\n",
       "      <td>3.650976</td>\n",
       "      <td>3.901540</td>\n",
       "      <td>3.900591</td>\n",
       "      <td>3.907687</td>\n",
       "    </tr>\n",
       "    <tr>\n",
       "      <th>std</th>\n",
       "      <td>1.385780</td>\n",
       "      <td>1.256915</td>\n",
       "      <td>1.271271</td>\n",
       "      <td>1.218944</td>\n",
       "    </tr>\n",
       "    <tr>\n",
       "      <th>min</th>\n",
       "      <td>1.000000</td>\n",
       "      <td>1.000000</td>\n",
       "      <td>1.000000</td>\n",
       "      <td>1.000000</td>\n",
       "    </tr>\n",
       "    <tr>\n",
       "      <th>25%</th>\n",
       "      <td>3.000000</td>\n",
       "      <td>3.000000</td>\n",
       "      <td>3.000000</td>\n",
       "      <td>3.000000</td>\n",
       "    </tr>\n",
       "    <tr>\n",
       "      <th>50%</th>\n",
       "      <td>4.000000</td>\n",
       "      <td>4.000000</td>\n",
       "      <td>4.000000</td>\n",
       "      <td>4.000000</td>\n",
       "    </tr>\n",
       "    <tr>\n",
       "      <th>75%</th>\n",
       "      <td>5.000000</td>\n",
       "      <td>5.000000</td>\n",
       "      <td>5.000000</td>\n",
       "      <td>5.000000</td>\n",
       "    </tr>\n",
       "    <tr>\n",
       "      <th>max</th>\n",
       "      <td>5.000000</td>\n",
       "      <td>5.000000</td>\n",
       "      <td>5.000000</td>\n",
       "      <td>5.000000</td>\n",
       "    </tr>\n",
       "  </tbody>\n",
       "</table>\n",
       "</div>"
      ],
      "text/plain": [
       "       Clarity of questions  Usability of Test Interface  \\\n",
       "count           1017.000000                   995.000000   \n",
       "mean               3.650976                     3.901540   \n",
       "std                1.385780                     1.256915   \n",
       "min                1.000000                     1.000000   \n",
       "25%                3.000000                     3.000000   \n",
       "50%                4.000000                     4.000000   \n",
       "75%                5.000000                     5.000000   \n",
       "max                5.000000                     5.000000   \n",
       "\n",
       "       Usability of Code Editor  Fairness of skill assessment  \n",
       "count                985.000000                    974.000000  \n",
       "mean                   3.900591                      3.907687  \n",
       "std                    1.271271                      1.218944  \n",
       "min                    1.000000                      1.000000  \n",
       "25%                    3.000000                      3.000000  \n",
       "50%                    4.000000                      4.000000  \n",
       "75%                    5.000000                      5.000000  \n",
       "max                    5.000000                      5.000000  "
      ]
     },
     "execution_count": 10,
     "metadata": {},
     "output_type": "execute_result"
    }
   ],
   "source": [
    "data.describe()"
   ]
  },
  {
   "cell_type": "markdown",
   "id": "68a30415",
   "metadata": {},
   "source": [
    "### Data cleaning- Checking for null values"
   ]
  },
  {
   "cell_type": "markdown",
   "id": "ae5b4ea2",
   "metadata": {},
   "source": [
    "checking missing values"
   ]
  },
  {
   "cell_type": "code",
   "execution_count": 11,
   "id": "b0e4607d",
   "metadata": {},
   "outputs": [
    {
     "data": {
      "text/plain": [
       "<bound method NDFrame._add_numeric_operations.<locals>.sum of       Candidate Name  Email  Department Code  Clarity of questions  \\\n",
       "0              False  False            False                 False   \n",
       "1              False  False            False                 False   \n",
       "2              False  False            False                 False   \n",
       "3              False  False            False                 False   \n",
       "4              False  False            False                 False   \n",
       "...              ...    ...              ...                   ...   \n",
       "1032           False  False            False                 False   \n",
       "1033           False  False            False                 False   \n",
       "1034           False  False            False                 False   \n",
       "1035           False  False            False                 False   \n",
       "1036           False  False            False                 False   \n",
       "\n",
       "      Usability of Test Interface  Usability of Code Editor  \\\n",
       "0                           False                     False   \n",
       "1                           False                     False   \n",
       "2                           False                     False   \n",
       "3                           False                     False   \n",
       "4                           False                     False   \n",
       "...                           ...                       ...   \n",
       "1032                        False                     False   \n",
       "1033                        False                     False   \n",
       "1034                        False                     False   \n",
       "1035                        False                     False   \n",
       "1036                        False                     False   \n",
       "\n",
       "      Fairness of skill assessment  Extra Comment  \n",
       "0                            False           True  \n",
       "1                            False          False  \n",
       "2                            False           True  \n",
       "3                            False           True  \n",
       "4                            False           True  \n",
       "...                            ...            ...  \n",
       "1032                         False           True  \n",
       "1033                         False           True  \n",
       "1034                         False           True  \n",
       "1035                         False           True  \n",
       "1036                         False           True  \n",
       "\n",
       "[1037 rows x 8 columns]>"
      ]
     },
     "execution_count": 11,
     "metadata": {},
     "output_type": "execute_result"
    }
   ],
   "source": [
    "data.isna().sum   "
   ]
  },
  {
   "cell_type": "markdown",
   "id": "32564ea5",
   "metadata": {},
   "source": [
    "### Removing Null Entries"
   ]
  },
  {
   "cell_type": "code",
   "execution_count": 12,
   "id": "498178a0",
   "metadata": {},
   "outputs": [],
   "source": [
    "data.dropna(axis=0,inplace=True)  #  If null entries are there"
   ]
  },
  {
   "cell_type": "code",
   "execution_count": 13,
   "id": "210c5157",
   "metadata": {},
   "outputs": [
    {
     "data": {
      "text/plain": [
       "(96, 8)"
      ]
     },
     "execution_count": 13,
     "metadata": {},
     "output_type": "execute_result"
    }
   ],
   "source": [
    "data.shape"
   ]
  },
  {
   "cell_type": "markdown",
   "id": "23e4e10a",
   "metadata": {},
   "source": [
    "### Filling values in place of Null Entries(If Numerical feature)"
   ]
  },
  {
   "cell_type": "markdown",
   "id": "640d9a59",
   "metadata": {},
   "source": [
    "Values can either be mean, median or any integer"
   ]
  },
  {
   "cell_type": "code",
   "execution_count": 15,
   "id": "15faf230",
   "metadata": {},
   "outputs": [
    {
     "data": {
      "text/html": [
       "<div>\n",
       "<style scoped>\n",
       "    .dataframe tbody tr th:only-of-type {\n",
       "        vertical-align: middle;\n",
       "    }\n",
       "\n",
       "    .dataframe tbody tr th {\n",
       "        vertical-align: top;\n",
       "    }\n",
       "\n",
       "    .dataframe thead th {\n",
       "        text-align: right;\n",
       "    }\n",
       "</style>\n",
       "<table border=\"1\" class=\"dataframe\">\n",
       "  <thead>\n",
       "    <tr style=\"text-align: right;\">\n",
       "      <th></th>\n",
       "      <th>Candidate Name</th>\n",
       "      <th>Email</th>\n",
       "      <th>Department Code</th>\n",
       "      <th>Clarity of questions</th>\n",
       "      <th>Usability of Test Interface</th>\n",
       "      <th>Usability of Code Editor</th>\n",
       "      <th>Fairness of skill assessment</th>\n",
       "      <th>Extra Comment</th>\n",
       "    </tr>\n",
       "  </thead>\n",
       "  <tbody>\n",
       "    <tr>\n",
       "      <th>1</th>\n",
       "      <td>Kelsie</td>\n",
       "      <td>Kelsie1983@yahoo.com</td>\n",
       "      <td>D</td>\n",
       "      <td>5.0</td>\n",
       "      <td>1.0</td>\n",
       "      <td>5.0</td>\n",
       "      <td>5.0</td>\n",
       "      <td>Please provide all test cases available to pro...</td>\n",
       "    </tr>\n",
       "    <tr>\n",
       "      <th>11</th>\n",
       "      <td>Vinie</td>\n",
       "      <td>Vinie1980@hotmail.com</td>\n",
       "      <td>H</td>\n",
       "      <td>1.0</td>\n",
       "      <td>1.0</td>\n",
       "      <td>1.0</td>\n",
       "      <td>1.0</td>\n",
       "      <td>questions were not clear at all..leetcode is f...</td>\n",
       "    </tr>\n",
       "    <tr>\n",
       "      <th>27</th>\n",
       "      <td>Florence</td>\n",
       "      <td>Florence1977@hotmail.com</td>\n",
       "      <td>A</td>\n",
       "      <td>3.0</td>\n",
       "      <td>2.0</td>\n",
       "      <td>3.0</td>\n",
       "      <td>3.0</td>\n",
       "      <td>good task in this server_x005F_x000D_\\n</td>\n",
       "    </tr>\n",
       "    <tr>\n",
       "      <th>41</th>\n",
       "      <td>Annemarie</td>\n",
       "      <td>Annemarie1987@yahoo.com</td>\n",
       "      <td>G</td>\n",
       "      <td>4.0</td>\n",
       "      <td>5.0</td>\n",
       "      <td>5.0</td>\n",
       "      <td>5.0</td>\n",
       "      <td>no</td>\n",
       "    </tr>\n",
       "    <tr>\n",
       "      <th>105</th>\n",
       "      <td>Hans</td>\n",
       "      <td>Hans1990@company.com</td>\n",
       "      <td>F</td>\n",
       "      <td>5.0</td>\n",
       "      <td>5.0</td>\n",
       "      <td>3.0</td>\n",
       "      <td>5.0</td>\n",
       "      <td>Code Editor does not allow a proper full scree...</td>\n",
       "    </tr>\n",
       "    <tr>\n",
       "      <th>217</th>\n",
       "      <td>Adamaris</td>\n",
       "      <td>Adamaris1988@hotmail.com</td>\n",
       "      <td>E</td>\n",
       "      <td>3.0</td>\n",
       "      <td>3.0</td>\n",
       "      <td>3.0</td>\n",
       "      <td>3.0</td>\n",
       "      <td>Please consider further review of the problem ...</td>\n",
       "    </tr>\n",
       "    <tr>\n",
       "      <th>317</th>\n",
       "      <td>Lulah</td>\n",
       "      <td>Lulah1986@company.in</td>\n",
       "      <td>B</td>\n",
       "      <td>3.0</td>\n",
       "      <td>2.0</td>\n",
       "      <td>1.0</td>\n",
       "      <td>1.0</td>\n",
       "      <td>The Q3 was not mentioned with the order in whi...</td>\n",
       "    </tr>\n",
       "    <tr>\n",
       "      <th>324</th>\n",
       "      <td>Barbie</td>\n",
       "      <td>Barbie1996@yahoo.com</td>\n",
       "      <td>C</td>\n",
       "      <td>2.0</td>\n",
       "      <td>4.0</td>\n",
       "      <td>4.0</td>\n",
       "      <td>3.0</td>\n",
       "      <td>Constraint were missing in the questions , whi...</td>\n",
       "    </tr>\n",
       "  </tbody>\n",
       "</table>\n",
       "</div>"
      ],
      "text/plain": [
       "    Candidate Name                     Email Department Code  \\\n",
       "1           Kelsie      Kelsie1983@yahoo.com               D   \n",
       "11           Vinie     Vinie1980@hotmail.com               H   \n",
       "27        Florence  Florence1977@hotmail.com               A   \n",
       "41       Annemarie   Annemarie1987@yahoo.com               G   \n",
       "105           Hans      Hans1990@company.com               F   \n",
       "217       Adamaris  Adamaris1988@hotmail.com               E   \n",
       "317          Lulah      Lulah1986@company.in               B   \n",
       "324         Barbie      Barbie1996@yahoo.com               C   \n",
       "\n",
       "     Clarity of questions  Usability of Test Interface  \\\n",
       "1                     5.0                          1.0   \n",
       "11                    1.0                          1.0   \n",
       "27                    3.0                          2.0   \n",
       "41                    4.0                          5.0   \n",
       "105                   5.0                          5.0   \n",
       "217                   3.0                          3.0   \n",
       "317                   3.0                          2.0   \n",
       "324                   2.0                          4.0   \n",
       "\n",
       "     Usability of Code Editor  Fairness of skill assessment  \\\n",
       "1                         5.0                           5.0   \n",
       "11                        1.0                           1.0   \n",
       "27                        3.0                           3.0   \n",
       "41                        5.0                           5.0   \n",
       "105                       3.0                           5.0   \n",
       "217                       3.0                           3.0   \n",
       "317                       1.0                           1.0   \n",
       "324                       4.0                           3.0   \n",
       "\n",
       "                                         Extra Comment  \n",
       "1    Please provide all test cases available to pro...  \n",
       "11   questions were not clear at all..leetcode is f...  \n",
       "27             good task in this server_x005F_x000D_\\n  \n",
       "41                                                  no  \n",
       "105  Code Editor does not allow a proper full scree...  \n",
       "217  Please consider further review of the problem ...  \n",
       "317  The Q3 was not mentioned with the order in whi...  \n",
       "324  Constraint were missing in the questions , whi...  "
      ]
     },
     "execution_count": 15,
     "metadata": {},
     "output_type": "execute_result"
    }
   ],
   "source": [
    "data1 = data.drop_duplicates(subset =\"Department Code\")\n",
    "data1"
   ]
  },
  {
   "cell_type": "code",
   "execution_count": 17,
   "id": "8a024b09",
   "metadata": {},
   "outputs": [
    {
     "data": {
      "text/plain": [
       "G    17\n",
       "H    15\n",
       "B    13\n",
       "C    13\n",
       "D    11\n",
       "E    10\n",
       "A     9\n",
       "F     8\n",
       "Name: Department Code, dtype: int64"
      ]
     },
     "execution_count": 17,
     "metadata": {},
     "output_type": "execute_result"
    }
   ],
   "source": [
    "data[\"Department Code\"].value_counts()"
   ]
  },
  {
   "cell_type": "markdown",
   "id": "199cb499",
   "metadata": {},
   "source": [
    "### Handling Outliers"
   ]
  },
  {
   "cell_type": "code",
   "execution_count": 18,
   "id": "c3b96cfe",
   "metadata": {},
   "outputs": [
    {
     "data": {
      "text/plain": [
       "<AxesSubplot:>"
      ]
     },
     "execution_count": 18,
     "metadata": {},
     "output_type": "execute_result"
    },
    {
     "data": {
      "image/png": "[encoded data removed]",
      "text/plain": [
       "<Figure size 432x288 with 1 Axes>"
      ]
     },
     "metadata": {
      "needs_background": "light"
     },
     "output_type": "display_data"
    }
   ],
   "source": [
    "sns.boxplot(data=data)"
   ]
  },
  {
   "cell_type": "code",
   "execution_count": 22,
   "id": "8db9f223",
   "metadata": {},
   "outputs": [
    {
     "data": {
      "text/plain": [
       "<AxesSubplot:xlabel='Fairness of skill assessment'>"
      ]
     },
     "execution_count": 22,
     "metadata": {},
     "output_type": "execute_result"
    },
    {
     "data": {
      "image/png": "[encoded data removed]",
      "text/plain": [
       "<Figure size 432x288 with 1 Axes>"
      ]
     },
     "metadata": {
      "needs_background": "light"
     },
     "output_type": "display_data"
    }
   ],
   "source": [
    "sns.boxplot(x='Fairness of skill assessment', data=data)"
   ]
  },
  {
   "cell_type": "markdown",
   "id": "4e35fb90",
   "metadata": {},
   "source": [
    "### Removing Outliers"
   ]
  },
  {
   "cell_type": "code",
   "execution_count": 23,
   "id": "740fe688",
   "metadata": {},
   "outputs": [
    {
     "name": "stdout",
     "output_type": "stream",
     "text": [
      "Old Shape:  (96, 8)\n",
      "New Shape:  (96, 8)\n"
     ]
    },
    {
     "data": {
      "text/plain": [
       "<AxesSubplot:xlabel='Fairness of skill assessment'>"
      ]
     },
     "execution_count": 23,
     "metadata": {},
     "output_type": "execute_result"
    },
    {
     "data": {
      "image/png": "[encoded data removed]",
      "text/plain": [
       "<Figure size 432x288 with 1 Axes>"
      ]
     },
     "metadata": {
      "needs_background": "light"
     },
     "output_type": "display_data"
    }
   ],
   "source": [
    "# IQR\n",
    "Q1 = np.percentile(data['Fairness of skill assessment'], 25,\n",
    "                interpolation = 'midpoint')\n",
    "  \n",
    "Q3 = np.percentile(data['Fairness of skill assessment'], 75,\n",
    "                interpolation = 'midpoint')\n",
    "IQR = Q3 - Q1\n",
    "\n",
    "\n",
    "print(\"Old Shape: \", data.shape)\n",
    "  \n",
    "# Upper bound\n",
    "upper = np.where(data['Fairness of skill assessment'] >= (Q3+1.5*IQR))\n",
    "  \n",
    "# Lower bound\n",
    "lower = np.where(data['Fairness of skill assessment'] <= (Q1-1.5*IQR))\n",
    "  \n",
    "# Removing the Outliers\n",
    "data.drop(upper[0], inplace = True)\n",
    "data.drop(lower[0], inplace = True)\n",
    "  \n",
    "print(\"New Shape: \", data.shape)\n",
    "  \n",
    "sns.boxplot(x='Fairness of skill assessment', data=data)\n"
   ]
  },
  {
   "cell_type": "markdown",
   "id": "450f5f1f",
   "metadata": {},
   "source": [
    "### Data Visualization"
   ]
  },
  {
   "cell_type": "markdown",
   "id": "a7d7aaeb",
   "metadata": {},
   "source": [
    "##### Visualizing the target column"
   ]
  },
  {
   "cell_type": "markdown",
   "id": "9c1ea383",
   "metadata": {},
   "source": [
    "Our target column will be the Species column because at the end we will need the result according to the species only."
   ]
  },
  {
   "cell_type": "code",
   "execution_count": 25,
   "id": "1bc58da1",
   "metadata": {},
   "outputs": [
    {
     "data": {
      "image/png": "[encoded data removed]",
      "text/plain": [
       "<Figure size 432x288 with 1 Axes>"
      ]
     },
     "metadata": {
      "needs_background": "light"
     },
     "output_type": "display_data"
    }
   ],
   "source": [
    "sns.countplot(x='Fairness of skill assessment', data=data, )\n",
    "plt.show()"
   ]
  },
  {
   "cell_type": "markdown",
   "id": "3a498758",
   "metadata": {},
   "source": [
    "### Relation between variables"
   ]
  },
  {
   "cell_type": "markdown",
   "id": "3616e0f5",
   "metadata": {},
   "source": [
    "### Bivariate Analysis - Scatter plot"
   ]
  },
  {
   "cell_type": "code",
   "execution_count": 28,
   "id": "84095b09",
   "metadata": {},
   "outputs": [
    {
     "data": {
      "image/png": "[encoded data removed]",
      "text/plain": [
       "<Figure size 432x288 with 1 Axes>"
      ]
     },
     "metadata": {
      "needs_background": "light"
     },
     "output_type": "display_data"
    }
   ],
   "source": [
    "sns.scatterplot(x='Usability of Test Interface', y='Fairness of skill assessment',\n",
    "                hue='Department Code', data=data, )\n",
    "plt.title('feedback')\n",
    "plt.show()"
   ]
  },
  {
   "cell_type": "markdown",
   "id": "c40d1a15",
   "metadata": {},
   "source": [
    "### Pair Plot - Multivariate Analysis"
   ]
  },
  {
   "cell_type": "code",
   "execution_count": 31,
   "id": "d9fa6470",
   "metadata": {},
   "outputs": [
    {
     "data": {
      "text/plain": [
       "<seaborn.axisgrid.PairGrid at 0x1a1002ac250>"
      ]
     },
     "execution_count": 31,
     "metadata": {},
     "output_type": "execute_result"
    },
    {
     "data": {
      "image/png": "[encoded data removed]",
      "text/plain": [
       "<Figure size 672.75x576 with 20 Axes>"
      ]
     },
     "metadata": {
      "needs_background": "light"
     },
     "output_type": "display_data"
    }
   ],
   "source": [
    "sns.pairplot(data.drop(['Email'], axis = 1), \n",
    "             hue='Department Code', height=2)"
   ]
  },
  {
   "cell_type": "markdown",
   "id": "a1a1b435",
   "metadata": {},
   "source": [
    "### Handling Correlation"
   ]
  },
  {
   "cell_type": "code",
   "execution_count": 32,
   "id": "b3cafd88",
   "metadata": {},
   "outputs": [
    {
     "data": {
      "text/html": [
       "<div>\n",
       "<style scoped>\n",
       "    .dataframe tbody tr th:only-of-type {\n",
       "        vertical-align: middle;\n",
       "    }\n",
       "\n",
       "    .dataframe tbody tr th {\n",
       "        vertical-align: top;\n",
       "    }\n",
       "\n",
       "    .dataframe thead th {\n",
       "        text-align: right;\n",
       "    }\n",
       "</style>\n",
       "<table border=\"1\" class=\"dataframe\">\n",
       "  <thead>\n",
       "    <tr style=\"text-align: right;\">\n",
       "      <th></th>\n",
       "      <th>Clarity of questions</th>\n",
       "      <th>Usability of Test Interface</th>\n",
       "      <th>Usability of Code Editor</th>\n",
       "      <th>Fairness of skill assessment</th>\n",
       "    </tr>\n",
       "  </thead>\n",
       "  <tbody>\n",
       "    <tr>\n",
       "      <th>Clarity of questions</th>\n",
       "      <td>1.000000</td>\n",
       "      <td>0.484082</td>\n",
       "      <td>0.335108</td>\n",
       "      <td>0.658430</td>\n",
       "    </tr>\n",
       "    <tr>\n",
       "      <th>Usability of Test Interface</th>\n",
       "      <td>0.484082</td>\n",
       "      <td>1.000000</td>\n",
       "      <td>0.686378</td>\n",
       "      <td>0.592553</td>\n",
       "    </tr>\n",
       "    <tr>\n",
       "      <th>Usability of Code Editor</th>\n",
       "      <td>0.335108</td>\n",
       "      <td>0.686378</td>\n",
       "      <td>1.000000</td>\n",
       "      <td>0.602193</td>\n",
       "    </tr>\n",
       "    <tr>\n",
       "      <th>Fairness of skill assessment</th>\n",
       "      <td>0.658430</td>\n",
       "      <td>0.592553</td>\n",
       "      <td>0.602193</td>\n",
       "      <td>1.000000</td>\n",
       "    </tr>\n",
       "  </tbody>\n",
       "</table>\n",
       "</div>"
      ],
      "text/plain": [
       "                              Clarity of questions  \\\n",
       "Clarity of questions                      1.000000   \n",
       "Usability of Test Interface               0.484082   \n",
       "Usability of Code Editor                  0.335108   \n",
       "Fairness of skill assessment              0.658430   \n",
       "\n",
       "                              Usability of Test Interface  \\\n",
       "Clarity of questions                             0.484082   \n",
       "Usability of Test Interface                      1.000000   \n",
       "Usability of Code Editor                         0.686378   \n",
       "Fairness of skill assessment                     0.592553   \n",
       "\n",
       "                              Usability of Code Editor  \\\n",
       "Clarity of questions                          0.335108   \n",
       "Usability of Test Interface                   0.686378   \n",
       "Usability of Code Editor                      1.000000   \n",
       "Fairness of skill assessment                  0.602193   \n",
       "\n",
       "                              Fairness of skill assessment  \n",
       "Clarity of questions                              0.658430  \n",
       "Usability of Test Interface                       0.592553  \n",
       "Usability of Code Editor                          0.602193  \n",
       "Fairness of skill assessment                      1.000000  "
      ]
     },
     "execution_count": 32,
     "metadata": {},
     "output_type": "execute_result"
    }
   ],
   "source": [
    "corr=data.corr()\n",
    "corr"
   ]
  },
  {
   "cell_type": "code",
   "execution_count": 33,
   "id": "cef7a03a",
   "metadata": {},
   "outputs": [
    {
     "data": {
      "text/plain": [
       "<AxesSubplot:>"
      ]
     },
     "execution_count": 33,
     "metadata": {},
     "output_type": "execute_result"
    },
    {
     "data": {
      "image/png": "[encoded data removed]",
      "text/plain": [
       "<Figure size 432x288 with 2 Axes>"
      ]
     },
     "metadata": {
      "needs_background": "light"
     },
     "output_type": "display_data"
    }
   ],
   "source": [
    "sns.heatmap(corr,annot=True,linewidths=.5,cmap=\"YlGnBu\")"
   ]
  },
  {
   "cell_type": "code",
   "execution_count": null,
   "id": "cc3713e7",
   "metadata": {},
   "outputs": [],
   "source": []
  },
  {
   "cell_type": "code",
   "execution_count": null,
   "id": "f5a03e7b",
   "metadata": {},
   "outputs": [],
   "source": []
  },
  {
   "cell_type": "code",
   "execution_count": null,
   "id": "02cc3be3",
   "metadata": {},
   "outputs": [],
   "source": []
  },
  {
   "cell_type": "code",
   "execution_count": null,
   "id": "88031e96",
   "metadata": {},
   "outputs": [],
   "source": []
  }
 ],
 "metadata": {
  "kernelspec": {
   "display_name": "Python 3",
   "language": "python",
   "name": "python3"
  },
  "language_info": {
   "codemirror_mode": {
    "name": "ipython",
    "version": 3
   },
   "file_extension": ".py",
   "mimetype": "text/x-python",
   "name": "python",
   "nbconvert_exporter": "python",
   "pygments_lexer": "ipython3",
   "version": "3.8.8"
  }
 },
 "nbformat": 4,
 "nbformat_minor": 5
}
