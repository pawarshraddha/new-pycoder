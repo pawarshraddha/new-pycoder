{
 "cells": [
  {
   "cell_type": "code",
   "execution_count": 1,
   "metadata": {},
   "outputs": [],
   "source": [
    "import pandas as pd\n",
    "import matplotlib.pyplot as plt\n",
    "import numpy as np\n",
    "import seaborn as sns\n",
    "from sklearn.linear_model import LinearRegression\n",
    "from sklearn.linear_model import Ridge\n",
    "from sklearn.linear_model import Lasso\n",
    "from sklearn.linear_model import ElasticNet\n",
    "from sklearn.metrics import mean_squared_error"
   ]
  },
  {
   "cell_type": "code",
   "execution_count": 3,
   "metadata": {},
   "outputs": [],
   "source": [
    "df=pd.read_excel(\"housing.csv.xlsx\")"
   ]
  },
  {
   "cell_type": "code",
   "execution_count": 4,
   "metadata": {},
   "outputs": [
    {
     "data": {
      "text/html": [
       "<div>\n",
       "<style scoped>\n",
       "    .dataframe tbody tr th:only-of-type {\n",
       "        vertical-align: middle;\n",
       "    }\n",
       "\n",
       "    .dataframe tbody tr th {\n",
       "        vertical-align: top;\n",
       "    }\n",
       "\n",
       "    .dataframe thead th {\n",
       "        text-align: right;\n",
       "    }\n",
       "</style>\n",
       "<table border=\"1\" class=\"dataframe\">\n",
       "  <thead>\n",
       "    <tr style=\"text-align: right;\">\n",
       "      <th></th>\n",
       "      <th>RM</th>\n",
       "      <th>LSTAT</th>\n",
       "      <th>PTRATIO</th>\n",
       "      <th>MEDV</th>\n",
       "    </tr>\n",
       "  </thead>\n",
       "  <tbody>\n",
       "    <tr>\n",
       "      <th>0</th>\n",
       "      <td>6.575</td>\n",
       "      <td>4.98</td>\n",
       "      <td>15.3</td>\n",
       "      <td>504000.0</td>\n",
       "    </tr>\n",
       "    <tr>\n",
       "      <th>1</th>\n",
       "      <td>6.421</td>\n",
       "      <td>9.14</td>\n",
       "      <td>17.8</td>\n",
       "      <td>453600.0</td>\n",
       "    </tr>\n",
       "    <tr>\n",
       "      <th>2</th>\n",
       "      <td>7.185</td>\n",
       "      <td>4.03</td>\n",
       "      <td>17.8</td>\n",
       "      <td>728700.0</td>\n",
       "    </tr>\n",
       "    <tr>\n",
       "      <th>3</th>\n",
       "      <td>6.998</td>\n",
       "      <td>2.94</td>\n",
       "      <td>18.7</td>\n",
       "      <td>701400.0</td>\n",
       "    </tr>\n",
       "    <tr>\n",
       "      <th>4</th>\n",
       "      <td>7.147</td>\n",
       "      <td>5.33</td>\n",
       "      <td>18.7</td>\n",
       "      <td>760200.0</td>\n",
       "    </tr>\n",
       "  </tbody>\n",
       "</table>\n",
       "</div>"
      ],
      "text/plain": [
       "      RM  LSTAT  PTRATIO      MEDV\n",
       "0  6.575   4.98     15.3  504000.0\n",
       "1  6.421   9.14     17.8  453600.0\n",
       "2  7.185   4.03     17.8  728700.0\n",
       "3  6.998   2.94     18.7  701400.0\n",
       "4  7.147   5.33     18.7  760200.0"
      ]
     },
     "execution_count": 4,
     "metadata": {},
     "output_type": "execute_result"
    }
   ],
   "source": [
    "df.head()"
   ]
  },
  {
   "cell_type": "code",
   "execution_count": 5,
   "metadata": {},
   "outputs": [
    {
     "data": {
      "text/html": [
       "<div>\n",
       "<style scoped>\n",
       "    .dataframe tbody tr th:only-of-type {\n",
       "        vertical-align: middle;\n",
       "    }\n",
       "\n",
       "    .dataframe tbody tr th {\n",
       "        vertical-align: top;\n",
       "    }\n",
       "\n",
       "    .dataframe thead th {\n",
       "        text-align: right;\n",
       "    }\n",
       "</style>\n",
       "<table border=\"1\" class=\"dataframe\">\n",
       "  <thead>\n",
       "    <tr style=\"text-align: right;\">\n",
       "      <th></th>\n",
       "      <th>RM</th>\n",
       "      <th>LSTAT</th>\n",
       "      <th>PTRATIO</th>\n",
       "      <th>MEDV</th>\n",
       "    </tr>\n",
       "  </thead>\n",
       "  <tbody>\n",
       "    <tr>\n",
       "      <th>count</th>\n",
       "      <td>489.000000</td>\n",
       "      <td>489.000000</td>\n",
       "      <td>489.000000</td>\n",
       "      <td>4.890000e+02</td>\n",
       "    </tr>\n",
       "    <tr>\n",
       "      <th>mean</th>\n",
       "      <td>6.240288</td>\n",
       "      <td>12.939632</td>\n",
       "      <td>18.516564</td>\n",
       "      <td>4.543429e+05</td>\n",
       "    </tr>\n",
       "    <tr>\n",
       "      <th>std</th>\n",
       "      <td>0.643650</td>\n",
       "      <td>7.081990</td>\n",
       "      <td>2.111268</td>\n",
       "      <td>1.653403e+05</td>\n",
       "    </tr>\n",
       "    <tr>\n",
       "      <th>min</th>\n",
       "      <td>3.561000</td>\n",
       "      <td>1.980000</td>\n",
       "      <td>12.600000</td>\n",
       "      <td>1.050000e+05</td>\n",
       "    </tr>\n",
       "    <tr>\n",
       "      <th>25%</th>\n",
       "      <td>5.880000</td>\n",
       "      <td>7.370000</td>\n",
       "      <td>17.400000</td>\n",
       "      <td>3.507000e+05</td>\n",
       "    </tr>\n",
       "    <tr>\n",
       "      <th>50%</th>\n",
       "      <td>6.185000</td>\n",
       "      <td>11.690000</td>\n",
       "      <td>19.100000</td>\n",
       "      <td>4.389000e+05</td>\n",
       "    </tr>\n",
       "    <tr>\n",
       "      <th>75%</th>\n",
       "      <td>6.575000</td>\n",
       "      <td>17.120000</td>\n",
       "      <td>20.200000</td>\n",
       "      <td>5.187000e+05</td>\n",
       "    </tr>\n",
       "    <tr>\n",
       "      <th>max</th>\n",
       "      <td>8.398000</td>\n",
       "      <td>37.970000</td>\n",
       "      <td>22.000000</td>\n",
       "      <td>1.024800e+06</td>\n",
       "    </tr>\n",
       "  </tbody>\n",
       "</table>\n",
       "</div>"
      ],
      "text/plain": [
       "               RM       LSTAT     PTRATIO          MEDV\n",
       "count  489.000000  489.000000  489.000000  4.890000e+02\n",
       "mean     6.240288   12.939632   18.516564  4.543429e+05\n",
       "std      0.643650    7.081990    2.111268  1.653403e+05\n",
       "min      3.561000    1.980000   12.600000  1.050000e+05\n",
       "25%      5.880000    7.370000   17.400000  3.507000e+05\n",
       "50%      6.185000   11.690000   19.100000  4.389000e+05\n",
       "75%      6.575000   17.120000   20.200000  5.187000e+05\n",
       "max      8.398000   37.970000   22.000000  1.024800e+06"
      ]
     },
     "execution_count": 5,
     "metadata": {},
     "output_type": "execute_result"
    }
   ],
   "source": [
    "df.describe()"
   ]
  },
  {
   "cell_type": "markdown",
   "metadata": {},
   "source": [
    "### Splitting data into training and testing data"
   ]
  },
  {
   "cell_type": "code",
   "execution_count": 6,
   "metadata": {
    "scrolled": true
   },
   "outputs": [
    {
     "name": "stdout",
     "output_type": "stream",
     "text": [
      "(342, 3)\n",
      "(342,)\n",
      "(147, 3)\n",
      "(147,)\n"
     ]
    }
   ],
   "source": [
    "X = df.drop('MEDV', axis=1)\n",
    "\n",
    "y = df['MEDV']\n",
    "\n",
    "from sklearn import preprocessing\n",
    "\n",
    "X = preprocessing.scale(X)\n",
    "\n",
    "y = preprocessing.scale(y)\n",
    "\n",
    "from sklearn.model_selection import train_test_split\n",
    "\n",
    "X_train, X_test, y_train, y_test = train_test_split(X, y, test_size=0.30, random_state=1)\n",
    "\n",
    "print(X_train.shape)\n",
    "\n",
    "print(y_train.shape)\n",
    "\n",
    "print(X_test.shape)\n",
    "\n",
    "print(y_test.shape)"
   ]
  },
  {
   "cell_type": "markdown",
   "metadata": {},
   "source": [
    "preprocessing.scale(X)\n",
    "\n",
    "The preprocessing.scale() algorithm puts your data on one scale. This is helpful with largely sparse datasets. In simple words, your data is vastly spread out. For example the values of X maybe like so:\n",
    "\n",
    "X = [1, 4, 400, 10000, 100000]\n",
    "\n",
    "The issue with sparsity is that it very biased or in statistical terms skewed. So, therefore, scaling the data brings all your values onto one scale eliminating the sparsity.\n",
    "\n",
    "Scaling the data brings all your values onto one scale eliminating the sparsity and it follows the same concept of Normalization and Standardization. To see the effect, you can call describe on the dataframe before and after processing:"
   ]
  },
  {
   "cell_type": "code",
   "execution_count": 7,
   "metadata": {},
   "outputs": [
    {
     "data": {
      "text/html": [
       "<div>\n",
       "<style scoped>\n",
       "    .dataframe tbody tr th:only-of-type {\n",
       "        vertical-align: middle;\n",
       "    }\n",
       "\n",
       "    .dataframe tbody tr th {\n",
       "        vertical-align: top;\n",
       "    }\n",
       "\n",
       "    .dataframe thead th {\n",
       "        text-align: right;\n",
       "    }\n",
       "</style>\n",
       "<table border=\"1\" class=\"dataframe\">\n",
       "  <thead>\n",
       "    <tr style=\"text-align: right;\">\n",
       "      <th></th>\n",
       "      <th>0</th>\n",
       "      <th>1</th>\n",
       "      <th>2</th>\n",
       "    </tr>\n",
       "  </thead>\n",
       "  <tbody>\n",
       "    <tr>\n",
       "      <th>count</th>\n",
       "      <td>4.890000e+02</td>\n",
       "      <td>4.890000e+02</td>\n",
       "      <td>4.890000e+02</td>\n",
       "    </tr>\n",
       "    <tr>\n",
       "      <th>mean</th>\n",
       "      <td>-8.918111e-16</td>\n",
       "      <td>9.081579e-18</td>\n",
       "      <td>1.522073e-15</td>\n",
       "    </tr>\n",
       "    <tr>\n",
       "      <th>std</th>\n",
       "      <td>1.001024e+00</td>\n",
       "      <td>1.001024e+00</td>\n",
       "      <td>1.001024e+00</td>\n",
       "    </tr>\n",
       "    <tr>\n",
       "      <th>min</th>\n",
       "      <td>-4.166912e+00</td>\n",
       "      <td>-1.549120e+00</td>\n",
       "      <td>-2.805245e+00</td>\n",
       "    </tr>\n",
       "    <tr>\n",
       "      <th>25%</th>\n",
       "      <td>-5.603316e-01</td>\n",
       "      <td>-7.872555e-01</td>\n",
       "      <td>-5.294013e-01</td>\n",
       "    </tr>\n",
       "    <tr>\n",
       "      <th>50%</th>\n",
       "      <td>-8.598615e-02</td>\n",
       "      <td>-1.766328e-01</td>\n",
       "      <td>2.766267e-01</td>\n",
       "    </tr>\n",
       "    <tr>\n",
       "      <th>75%</th>\n",
       "      <td>5.205539e-01</td>\n",
       "      <td>5.908861e-01</td>\n",
       "      <td>7.981743e-01</td>\n",
       "    </tr>\n",
       "    <tr>\n",
       "      <th>max</th>\n",
       "      <td>3.355740e+00</td>\n",
       "      <td>3.537989e+00</td>\n",
       "      <td>1.651616e+00</td>\n",
       "    </tr>\n",
       "  </tbody>\n",
       "</table>\n",
       "</div>"
      ],
      "text/plain": [
       "                  0             1             2\n",
       "count  4.890000e+02  4.890000e+02  4.890000e+02\n",
       "mean  -8.918111e-16  9.081579e-18  1.522073e-15\n",
       "std    1.001024e+00  1.001024e+00  1.001024e+00\n",
       "min   -4.166912e+00 -1.549120e+00 -2.805245e+00\n",
       "25%   -5.603316e-01 -7.872555e-01 -5.294013e-01\n",
       "50%   -8.598615e-02 -1.766328e-01  2.766267e-01\n",
       "75%    5.205539e-01  5.908861e-01  7.981743e-01\n",
       "max    3.355740e+00  3.537989e+00  1.651616e+00"
      ]
     },
     "execution_count": 7,
     "metadata": {},
     "output_type": "execute_result"
    }
   ],
   "source": [
    "#with X is already pre-proccessed \n",
    "df2 = pd.DataFrame(X)\n",
    "df2.describe()"
   ]
  },
  {
   "cell_type": "code",
   "execution_count": 8,
   "metadata": {},
   "outputs": [
    {
     "data": {
      "text/plain": [
       "LinearRegression()"
      ]
     },
     "execution_count": 8,
     "metadata": {},
     "output_type": "execute_result"
    }
   ],
   "source": [
    "regression_model = LinearRegression()\n",
    "\n",
    "regression_model.fit(X_train, y_train)"
   ]
  },
  {
   "cell_type": "code",
   "execution_count": 19,
   "metadata": {},
   "outputs": [
    {
     "name": "stdout",
     "output_type": "stream",
     "text": [
      "Ridge model: [ 0.31037614 -0.4601965  -0.2583435 ]\n"
     ]
    }
   ],
   "source": [
    "ridge = Ridge(alpha=0.2)\n",
    "\n",
    "ridge.fit(X_train,y_train)\n",
    "\n",
    "print (\"Ridge model:\", (ridge.coef_))"
   ]
  },
  {
   "cell_type": "code",
   "execution_count": 20,
   "metadata": {},
   "outputs": [
    {
     "name": "stdout",
     "output_type": "stream",
     "text": [
      "Ridge model: [ 0.31037007 -0.46008909 -0.25831074]\n"
     ]
    }
   ],
   "source": [
    "ridge = Ridge(alpha=0.3)\n",
    "\n",
    "ridge.fit(X_train,y_train)\n",
    "\n",
    "print (\"Ridge model:\", (ridge.coef_))"
   ]
  },
  {
   "cell_type": "code",
   "execution_count": 21,
   "metadata": {},
   "outputs": [
    {
     "name": "stdout",
     "output_type": "stream",
     "text": [
      "Ridge model: [ 0.31036395 -0.45998177 -0.25827798]\n"
     ]
    }
   ],
   "source": [
    "ridge = Ridge(alpha=0.4)\n",
    "\n",
    "ridge.fit(X_train,y_train)\n",
    "\n",
    "print (\"Ridge model:\", (ridge.coef_))"
   ]
  },
  {
   "cell_type": "markdown",
   "metadata": {},
   "source": [
    "if we incresess alpha greater than 0.3 then we see 2nd term of ridge model is decresess"
   ]
  },
  {
   "cell_type": "markdown",
   "metadata": {},
   "source": [
    "### The optimization objective for Ridge is:\n",
    "||y - Xw||^2_2 + alpha * ||w||^2_2"
   ]
  },
  {
   "cell_type": "code",
   "execution_count": 15,
   "metadata": {},
   "outputs": [
    {
     "name": "stdout",
     "output_type": "stream",
     "text": [
      "Lasso model: [ 0.26550839 -0.42151352 -0.18794559]\n"
     ]
    }
   ],
   "source": [
    "lasso = Lasso(alpha=0.1)\n",
    "\n",
    "lasso.fit(X_train,y_train)\n",
    "\n",
    "print (\"Lasso model:\", (lasso.coef_))"
   ]
  },
  {
   "cell_type": "code",
   "execution_count": 22,
   "metadata": {},
   "outputs": [
    {
     "name": "stdout",
     "output_type": "stream",
     "text": [
      "Lasso model: [ 0.2206233  -0.38261712 -0.11748345]\n"
     ]
    }
   ],
   "source": [
    "lasso = Lasso(alpha=0.2)\n",
    "\n",
    "lasso.fit(X_train,y_train)\n",
    "\n",
    "print (\"Lasso model:\", (lasso.coef_))"
   ]
  },
  {
   "cell_type": "code",
   "execution_count": 23,
   "metadata": {},
   "outputs": [
    {
     "name": "stdout",
     "output_type": "stream",
     "text": [
      "Lasso model: [ 0.1265626  -0.29924965 -0.        ]\n"
     ]
    }
   ],
   "source": [
    "lasso = Lasso(alpha=0.4)\n",
    "\n",
    "lasso.fit(X_train,y_train)\n",
    "\n",
    "print (\"Lasso model:\", (lasso.coef_))"
   ]
  },
  {
   "cell_type": "markdown",
   "metadata": {},
   "source": [
    "if alpha is increses upto 0.4 then 3rd term is getting zero "
   ]
  },
  {
   "cell_type": "markdown",
   "metadata": {},
   "source": [
    "### The optimization objective for Lasso is:\n",
    "(1 / (2 n_samples)) ||y - Xw||^2_2 + alpha * ||w||_1"
   ]
  },
  {
   "cell_type": "markdown",
   "metadata": {},
   "source": [
    "### Result on Train and Test Dataset"
   ]
  },
  {
   "cell_type": "code",
   "execution_count": 26,
   "metadata": {},
   "outputs": [
    {
     "name": "stdout",
     "output_type": "stream",
     "text": [
      "Linear Regression Model Training Score:  0.7105567540949003\n",
      "Linear Regression Model Testing Score:  0.7281579138457908\n",
      "Ridge Regression Model Training Score:  0.7105564869331338\n",
      "Ridge Regression Model Testing Score:  0.7281027886946532\n",
      "Lasso Regression Model Training Score:  0.4846935618898719\n",
      "Lasso Regression Model Testing Score:  0.4634547006315497\n"
     ]
    }
   ],
   "source": [
    "print(\"Linear Regression Model Training Score: \", regression_model.score(X_train, y_train))\n",
    "\n",
    "print(\"Linear Regression Model Testing Score: \",regression_model.score(X_test, y_test))\n",
    "\n",
    "print(\"Ridge Regression Model Training Score: \",ridge.score(X_train, y_train))\n",
    "\n",
    "print(\"Ridge Regression Model Testing Score: \",ridge.score(X_test, y_test))\n",
    "\n",
    "print(\"Lasso Regression Model Training Score: \",lasso.score(X_train, y_train))\n",
    "\n",
    "print(\"Lasso Regression Model Testing Score: \",lasso.score(X_test, y_test))"
   ]
  },
  {
   "cell_type": "code",
   "execution_count": 27,
   "metadata": {},
   "outputs": [
    {
     "name": "stdout",
     "output_type": "stream",
     "text": [
      "Linear Regression Model Coefficient : [ 0.31038811 -0.46041158 -0.25840905]\n",
      "Ridge Regression Model Coefficient : [ 0.31036395 -0.45998177 -0.25827798]\n",
      "Lasso Regression Model Coefficient : [ 0.1265626  -0.29924965 -0.        ]\n"
     ]
    }
   ],
   "source": [
    "print(\"Linear Regression Model Coefficient :\",regression_model.coef_)\n",
    "print(\"Ridge Regression Model Coefficient :\",ridge.coef_)\n",
    "print(\"Lasso Regression Model Coefficient :\",lasso.coef_)"
   ]
  },
  {
   "cell_type": "markdown",
   "metadata": {},
   "source": [
    "###  Fitting Polynomial Regression"
   ]
  },
  {
   "cell_type": "code",
   "execution_count": 28,
   "metadata": {},
   "outputs": [
    {
     "name": "stdout",
     "output_type": "stream",
     "text": [
      "0.0\n"
     ]
    }
   ],
   "source": [
    "from sklearn.preprocessing import PolynomialFeatures\n",
    "\n",
    "poly = PolynomialFeatures(degree = 2, interaction_only=True)\n",
    "\n",
    "X_poly = poly.fit_transform(X)\n",
    "\n",
    "X_train, X_test, y_train, y_test = train_test_split(X_poly, y, test_size=0.30, random_state=1)\n",
    "\n",
    "regression_model.fit(X_train, y_train)\n",
    "\n",
    "print(regression_model.coef_[0])"
   ]
  },
  {
   "cell_type": "code",
   "execution_count": 29,
   "metadata": {},
   "outputs": [
    {
     "name": "stdout",
     "output_type": "stream",
     "text": [
      "Ridge model: [ 0.          0.27107574 -0.57159397 -0.17077965 -0.20051563 -0.18439328\n",
      " -0.14349348]\n"
     ]
    }
   ],
   "source": [
    "ridge = Ridge(alpha=.3)\n",
    "\n",
    "ridge.fit(X_train,y_train)\n",
    "\n",
    "print (\"Ridge model:\", (ridge.coef_))"
   ]
  },
  {
   "cell_type": "code",
   "execution_count": 30,
   "metadata": {},
   "outputs": [
    {
     "name": "stdout",
     "output_type": "stream",
     "text": [
      "Ridge model: [ 0.          0.27111034 -0.57137283 -0.17081753 -0.20042061 -0.18436782\n",
      " -0.14341041]\n"
     ]
    }
   ],
   "source": [
    "ridge = Ridge(alpha=.4)\n",
    "\n",
    "ridge.fit(X_train,y_train)\n",
    "\n",
    "print (\"Ridge model:\", (ridge.coef_))"
   ]
  },
  {
   "cell_type": "code",
   "execution_count": 31,
   "metadata": {},
   "outputs": [
    {
     "name": "stdout",
     "output_type": "stream",
     "text": [
      "Ridge model: [ 0.          0.2711791  -0.57093142 -0.170893   -0.2002309  -0.18431688\n",
      " -0.1432444 ]\n"
     ]
    }
   ],
   "source": [
    "ridge = Ridge(alpha=.6)\n",
    "\n",
    "ridge.fit(X_train,y_train)\n",
    "\n",
    "print (\"Ridge model:\", (ridge.coef_))"
   ]
  },
  {
   "cell_type": "markdown",
   "metadata": {},
   "source": [
    "all term are remains same if we increses alpha upto 0.6"
   ]
  },
  {
   "cell_type": "code",
   "execution_count": 33,
   "metadata": {},
   "outputs": [
    {
     "name": "stdout",
     "output_type": "stream",
     "text": [
      "Lasso model: [ 0.          0.26858583 -0.571742   -0.16961397 -0.19866367 -0.17956566\n",
      " -0.13553868]\n"
     ]
    }
   ],
   "source": [
    "lasso = Lasso(alpha=0.003)\n",
    "\n",
    "lasso.fit(X_train,y_train)\n",
    "\n",
    "print (\"Lasso model:\", (lasso.coef_))"
   ]
  },
  {
   "cell_type": "code",
   "execution_count": 34,
   "metadata": {},
   "outputs": [
    {
     "name": "stdout",
     "output_type": "stream",
     "text": [
      "Lasso model: [ 0.          0.2693995  -0.57189417 -0.1699642  -0.19937095 -0.18120994\n",
      " -0.13828278]\n"
     ]
    }
   ],
   "source": [
    "lasso = Lasso(alpha=0.002)\n",
    "\n",
    "lasso.fit(X_train,y_train)\n",
    "\n",
    "print (\"Lasso model:\", (lasso.coef_))"
   ]
  },
  {
   "cell_type": "code",
   "execution_count": 35,
   "metadata": {},
   "outputs": [
    {
     "name": "stdout",
     "output_type": "stream",
     "text": [
      "Lasso model: [ 0.          0.18971592 -0.44165633 -0.08292586 -0.07699728 -0.06161188\n",
      "  0.        ]\n"
     ]
    }
   ],
   "source": [
    "lasso = Lasso(alpha=0.2)\n",
    "\n",
    "lasso.fit(X_train,y_train)\n",
    "\n",
    "print (\"Lasso model:\", (lasso.coef_))"
   ]
  },
  {
   "cell_type": "markdown",
   "metadata": {},
   "source": [
    "if we change alpha drasticly then parameter of lasso model is change more"
   ]
  },
  {
   "cell_type": "markdown",
   "metadata": {},
   "source": [
    "### Result on Polynomial Transformed Train and Test Dataset"
   ]
  },
  {
   "cell_type": "code",
   "execution_count": 38,
   "metadata": {},
   "outputs": [
    {
     "name": "stdout",
     "output_type": "stream",
     "text": [
      "Linear Regression Model Training Score:  0.8244073780079281\n",
      "Linear Regression Model Testing Score:  0.8149670026064411\n",
      "Ridge Regression Model Training Score:  0.8244059086530131\n",
      "Ridge Regression Model Testing Score:  0.8150111643173795\n",
      "Lasso Regression Model Training Score:  0.7221981474611417\n",
      "Lasso Regression Model Testing Score:  0.707512273692332\n"
     ]
    }
   ],
   "source": [
    "print(\"Linear Regression Model Training Score: \", regression_model.score(X_train, y_train))\n",
    "\n",
    "print(\"Linear Regression Model Testing Score: \",regression_model.score(X_test, y_test))\n",
    "\n",
    "print(\"Ridge Regression Model Training Score: \",ridge.score(X_train, y_train))\n",
    "\n",
    "print(\"Ridge Regression Model Testing Score: \",ridge.score(X_test, y_test))\n",
    "\n",
    "print(\"Lasso Regression Model Training Score: \",lasso.score(X_train, y_train))\n",
    "\n",
    "print(\"Lasso Regression Model Testing Score: \",lasso.score(X_test, y_test))"
   ]
  },
  {
   "cell_type": "markdown",
   "metadata": {},
   "source": [
    "print(\"Linear Regression Model Coefficient :\",regression_model.coef_)\n",
    "print(\"Ridge Regression Model Coefficient :\",ridge.coef_)\n",
    "print(\"Lasso Regression Model Coefficient :\",lasso.coef_)"
   ]
  },
  {
   "cell_type": "markdown",
   "metadata": {},
   "source": [
    "### Elastic Net"
   ]
  },
  {
   "cell_type": "code",
   "execution_count": 39,
   "metadata": {
    "scrolled": true
   },
   "outputs": [
    {
     "data": {
      "text/plain": [
       "0.7306970161020186"
      ]
     },
     "execution_count": 39,
     "metadata": {},
     "output_type": "execute_result"
    }
   ],
   "source": [
    "from sklearn.linear_model import ElasticNet\n",
    "\n",
    "ENreg = ElasticNet(alpha=0.5, l1_ratio=0.2, normalize=False)\n",
    "\n",
    "ENreg.fit(X_train,y_train)\n",
    "\n",
    "pred_cv = ENreg.predict(X_train)\n",
    "\n",
    "\n",
    "ENreg.score(X_train,y_train)"
   ]
  },
  {
   "cell_type": "markdown",
   "metadata": {},
   "source": [
    "Cross-validation with ElasticNetCV\n",
    "\n",
    "ElasticNetCV is a cross-validation class that can search multiple alpha values and applies the best one. We'll define the model with alphas value and fit it with xtrain and ytrain data."
   ]
  },
  {
   "cell_type": "code",
   "execution_count": 40,
   "metadata": {},
   "outputs": [],
   "source": [
    "from sklearn.linear_model import ElasticNet,ElasticNetCV"
   ]
  },
  {
   "cell_type": "code",
   "execution_count": 41,
   "metadata": {},
   "outputs": [],
   "source": [
    "#To figure out what alpha value is good for our model, we'll define multiple values and check the performance accuracy.\n",
    "\n",
    "alphas = [0.0001, 0.001, 0.01, 0.1, 0.3, 0.5, 0.7, 1]"
   ]
  },
  {
   "cell_type": "code",
   "execution_count": 42,
   "metadata": {},
   "outputs": [
    {
     "name": "stdout",
     "output_type": "stream",
     "text": [
      "0.01\n",
      "-0.10336736215860041\n"
     ]
    }
   ],
   "source": [
    "elastic_cv=ElasticNetCV(alphas=alphas, cv=5)\n",
    "model = elastic_cv.fit(X_train, y_train)\n",
    "print(model.alpha_)\n",
    "print(model.intercept_)"
   ]
  },
  {
   "cell_type": "code",
   "execution_count": 43,
   "metadata": {},
   "outputs": [
    {
     "name": "stdout",
     "output_type": "stream",
     "text": [
      "Alpha:0.0001, R2:0.72, MSE:0.28, RMSE:0.53\n",
      "Alpha:0.0010, R2:0.72, MSE:0.28, RMSE:0.53\n",
      "Alpha:0.0100, R2:0.72, MSE:0.28, RMSE:0.53\n",
      "Alpha:0.1000, R2:0.71, MSE:0.29, RMSE:0.54\n",
      "Alpha:0.3000, R2:0.66, MSE:0.34, RMSE:0.58\n",
      "Alpha:0.5000, R2:0.57, MSE:0.43, RMSE:0.65\n",
      "Alpha:0.7000, R2:0.46, MSE:0.54, RMSE:0.73\n",
      "Alpha:1.0000, R2:0.28, MSE:0.72, RMSE:0.85\n"
     ]
    }
   ],
   "source": [
    "#we'll check the R-squared, MSE, and RMSE metrics for each alpha.\n",
    "\n",
    "for a in alphas:\n",
    "    model = ElasticNet(alpha=a).fit(X,y)   \n",
    "    score = model.score(X, y)\n",
    "    pred_y = model.predict(X)\n",
    "    mse = mean_squared_error(y, pred_y)   \n",
    "    print(\"Alpha:{0:.4f}, R2:{1:.2f}, MSE:{2:.2f}, RMSE:{3:.2f}\"\n",
    "       .format(a, score, mse, np.sqrt(mse)))"
   ]
  },
  {
   "cell_type": "code",
   "execution_count": null,
   "metadata": {},
   "outputs": [],
   "source": []
  }
 ],
 "metadata": {
  "kernelspec": {
   "display_name": "Python 3",
   "language": "python",
   "name": "python3"
  },
  "language_info": {
   "codemirror_mode": {
    "name": "ipython",
    "version": 3
   },
   "file_extension": ".py",
   "mimetype": "text/x-python",
   "name": "python",
   "nbconvert_exporter": "python",
   "pygments_lexer": "ipython3",
   "version": "3.8.8"
  }
 },
 "nbformat": 4,
 "nbformat_minor": 4
}
