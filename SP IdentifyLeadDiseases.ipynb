{
 "cells": [
  {
   "cell_type": "code",
   "execution_count": 2,
   "metadata": {
    "colab": {
     "base_uri": "https://localhost:8080/",
     "height": 373
    },
    "id": "GwR-pND4yaXu",
    "outputId": "827ae914-c20c-432b-bdb4-a9dfa64dc333"
   },
   "outputs": [
    {
     "ename": "ModuleNotFoundError",
     "evalue": "No module named 'tensorflow.compact'",
     "output_type": "error",
     "traceback": [
      "\u001b[1;31m---------------------------------------------------------------------------\u001b[0m",
      "\u001b[1;31mModuleNotFoundError\u001b[0m                       Traceback (most recent call last)",
      "\u001b[1;32m<ipython-input-2-0ce8bf99846e>\u001b[0m in \u001b[0;36m<module>\u001b[1;34m\u001b[0m\n\u001b[0;32m      1\u001b[0m \u001b[1;32mfrom\u001b[0m \u001b[0mtensorflow\u001b[0m\u001b[1;33m.\u001b[0m\u001b[0mcompat\u001b[0m\u001b[1;33m.\u001b[0m\u001b[0mv1\u001b[0m \u001b[1;32mimport\u001b[0m  \u001b[0mConfigProto\u001b[0m\u001b[1;33m\u001b[0m\u001b[1;33m\u001b[0m\u001b[0m\n\u001b[1;32m----> 2\u001b[1;33m \u001b[1;32mfrom\u001b[0m \u001b[0mtensorflow\u001b[0m\u001b[1;33m.\u001b[0m\u001b[0mcompact\u001b[0m\u001b[1;33m.\u001b[0m\u001b[0mv1\u001b[0m \u001b[1;32mimport\u001b[0m \u001b[0mIteractiveSession\u001b[0m\u001b[1;33m\u001b[0m\u001b[1;33m\u001b[0m\u001b[0m\n\u001b[0m\u001b[0;32m      3\u001b[0m \u001b[1;33m\u001b[0m\u001b[0m\n\u001b[0;32m      4\u001b[0m \u001b[0mconfig\u001b[0m \u001b[1;33m=\u001b[0m\u001b[0mConfigProto\u001b[0m\u001b[1;33m(\u001b[0m\u001b[1;33m)\u001b[0m\u001b[1;33m\u001b[0m\u001b[1;33m\u001b[0m\u001b[0m\n\u001b[0;32m      5\u001b[0m \u001b[0mconfig\u001b[0m\u001b[1;33m.\u001b[0m\u001b[0mgpu_options\u001b[0m\u001b[1;33m.\u001b[0m\u001b[0mper_process_gpu_memory_fraction\u001b[0m \u001b[1;33m=\u001b[0m \u001b[1;36m0.5\u001b[0m\u001b[1;33m\u001b[0m\u001b[1;33m\u001b[0m\u001b[0m\n",
      "\u001b[1;31mModuleNotFoundError\u001b[0m: No module named 'tensorflow.compact'"
     ]
    }
   ],
   "source": [
    "from tensorflow.compat.v1 import  ConfigProto\n",
    "from tensorflow.compact.v1 import IteractiveSession\n",
    "\n",
    "config =ConfigProto()\n",
    "config.gpu_options.per_process_gpu_memory_fraction = 0.5\n",
    "config.gpu_options.allow_growth = True\n",
    "session = InteractiveSession(config=config)"
   ]
  },
  {
   "cell_type": "code",
   "execution_count": 3,
   "metadata": {
    "id": "TpFMF1Nuzwi8"
   },
   "outputs": [],
   "source": [
    "import numpy as np\n",
    "import pickle\n",
    "import cv2\n",
    "from os import listdir\n",
    "import tensorflow\n",
    "from sklearn.preprocessing import LabelBinarizer\n",
    "from tensorflow.keras.models import Sequential\n",
    "from tensorflow.python.keras.layers import BatchNormalization\n",
    "from keras.layers.convolutional import Conv2D\n",
    "from keras.layers.convolutional import MaxPooling2D\n",
    "from keras.layers.core import Activation, Flatten, Dropout, Dense\n",
    "from keras import backend as K\n",
    "from keras.preprocessing.image import ImageDataGenerator\n",
    "from tensorflow.keras.optimizers import Adam\n",
    "from keras.preprocessing import image\n",
    "from keras.preprocessing.image import img_to_array\n",
    "from sklearn.preprocessing import MultiLabelBinarizer\n",
    "from sklearn.model_selection import train_test_split\n",
    "import matplotlib.pyplot as plt"
   ]
  },
  {
   "cell_type": "code",
   "execution_count": 4,
   "metadata": {
    "colab": {
     "base_uri": "https://localhost:8080/"
    },
    "id": "lA9vaFPX0APj",
    "outputId": "a0fb1dc5-496f-4a93-a7f4-153194f2bd69"
   },
   "outputs": [],
   "source": [
    "from tensorflow.compat.v1 import  ConfigProto\n",
    "from tensorflow.compat.v1 import InteractiveSession\n",
    "\n",
    "config =ConfigProto()\n",
    "config.gpu_options.per_process_gpu_memory_fraction = 0.5\n",
    "config.gpu_options.allow_growth = True\n",
    "session = InteractiveSession(config=config)"
   ]
  },
  {
   "cell_type": "code",
   "execution_count": 5,
   "metadata": {
    "id": "twmLEBI-D3sY"
   },
   "outputs": [],
   "source": [
    "from tensorflow.keras.layers import Input,  Lambda, Dense, Flatten\n",
    "from tensorflow.keras.models import Model\n",
    "from tensorflow.keras.applications.resnet50 import ResNet50\n",
    "\n",
    "from tensorflow.keras.applications.resnet50 import preprocess_input\n",
    "from tensorflow.keras.preprocessing import image\n",
    "from tensorflow.keras.preprocessing.image import ImageDataGenerator, load_img\n",
    "from tensorflow.keras.models import Sequential\n",
    "import numpy as np\n",
    "from glob import glob "
   ]
  },
  {
   "cell_type": "code",
   "execution_count": 6,
   "metadata": {
    "colab": {
     "base_uri": "https://localhost:8080/"
    },
    "id": "fgjMy4SzE5ni",
    "outputId": "a6c5dae6-23d7-4352-d620-cfb69c3a3a75"
   },
   "outputs": [
    {
     "ename": "ModuleNotFoundError",
     "evalue": "No module named 'google.colab'",
     "output_type": "error",
     "traceback": [
      "\u001b[1;31m---------------------------------------------------------------------------\u001b[0m",
      "\u001b[1;31mModuleNotFoundError\u001b[0m                       Traceback (most recent call last)",
      "\u001b[1;32m<ipython-input-6-91874b305a32>\u001b[0m in \u001b[0;36m<module>\u001b[1;34m\u001b[0m\n\u001b[1;32m----> 1\u001b[1;33m \u001b[1;32mfrom\u001b[0m \u001b[0mgoogle\u001b[0m\u001b[1;33m.\u001b[0m\u001b[0mcolab\u001b[0m \u001b[1;32mimport\u001b[0m \u001b[0mdrive\u001b[0m\u001b[1;33m\u001b[0m\u001b[1;33m\u001b[0m\u001b[0m\n\u001b[0m\u001b[0;32m      2\u001b[0m \u001b[0mdrive\u001b[0m\u001b[1;33m.\u001b[0m\u001b[0mmount\u001b[0m\u001b[1;33m(\u001b[0m\u001b[1;34m'/content/drive/'\u001b[0m\u001b[1;33m)\u001b[0m\u001b[1;33m\u001b[0m\u001b[1;33m\u001b[0m\u001b[0m\n",
      "\u001b[1;31mModuleNotFoundError\u001b[0m: No module named 'google.colab'"
     ]
    }
   ],
   "source": [
    "from google.colab import drive\n",
    "drive.mount('/content/drive/')"
   ]
  },
  {
   "cell_type": "code",
   "execution_count": 7,
   "metadata": {
    "id": "dzWMj6GpPF-K"
   },
   "outputs": [],
   "source": [
    "!pip install -q keras"
   ]
  },
  {
   "cell_type": "code",
   "execution_count": 8,
   "metadata": {
    "id": "gfmbtwAyPGV7"
   },
   "outputs": [],
   "source": [
    "import keras"
   ]
  },
  {
   "cell_type": "code",
   "execution_count": 9,
   "metadata": {
    "id": "3LPTJwN608cd"
   },
   "outputs": [],
   "source": [
    "EPOCHS = 25\n",
    "INIT_LR = 1e-3\n",
    "BS = 32\n",
    "default_image_size = tuple((256, 256))\n",
    "image_size = [224,224]\n",
    "directory_root = r'LeafImgDataset'\n",
    "width=256\n",
    "height=256\n",
    "depth=3\n",
    "\n",
    "\n",
    "train_path ='/content/drive/MyDrive/LeafImgDataset/grapes/trainSet/train'\n",
    "valid_path ='/content/drive/MyDrive/LeafImgDataset/grapes/testSet/test'"
   ]
  },
  {
   "cell_type": "code",
   "execution_count": null,
   "metadata": {
    "id": "zIJQ7hyb08ws"
   },
   "outputs": [],
   "source": [
    "resenet = ResNet50(input_shape=image_size + [3], weights='imagenet',include_top=False )"
   ]
  },
  {
   "cell_type": "code",
   "execution_count": null,
   "metadata": {
    "id": "iOKRKhC6089p"
   },
   "outputs": [],
   "source": [
    "for layer in resenet.layers:\n",
    "    layer.trainable = False"
   ]
  },
  {
   "cell_type": "code",
   "execution_count": null,
   "metadata": {
    "id": "NYqUPYyU09Ac"
   },
   "outputs": [],
   "source": [
    "folders = glob('/content/drive/MyDrive/LeafImgDataset/grapes/trainSet/train')"
   ]
  },
  {
   "cell_type": "code",
   "execution_count": null,
   "metadata": {
    "id": "NQe0uJXvG40i"
   },
   "outputs": [],
   "source": [
    "x = Flatten()(resenet.output)"
   ]
  },
  {
   "cell_type": "code",
   "execution_count": null,
   "metadata": {
    "colab": {
     "base_uri": "https://localhost:8080/"
    },
    "id": "GHGvbMbMG42E",
    "outputId": "8bb08de2-df1d-4d8b-a26e-4dc65ad8ece3"
   },
   "outputs": [],
   "source": [
    "len(folders)"
   ]
  },
  {
   "cell_type": "code",
   "execution_count": null,
   "metadata": {
    "id": "PUA8FoqGG44N"
   },
   "outputs": [],
   "source": [
    "prediction = Dense(len(folders),activation='softmax')(x)\n",
    "\n",
    "model = Model(inputs=resenet.input, outputs=prediction)"
   ]
  },
  {
   "cell_type": "code",
   "execution_count": null,
   "metadata": {
    "colab": {
     "base_uri": "https://localhost:8080/"
    },
    "id": "2tG5dqykG48l",
    "outputId": "b966bdd7-a2b3-4806-ec42-4e3742700fb3"
   },
   "outputs": [],
   "source": [
    "model.summary()"
   ]
  },
  {
   "cell_type": "code",
   "execution_count": null,
   "metadata": {
    "id": "VjoW--kRL1m9"
   },
   "outputs": [],
   "source": [
    "model.compile(\n",
    "    loss= 'categorical_crossentropy',\n",
    "    optimizer='adam',\n",
    "    metrics=['accuracy']\n",
    ")"
   ]
  },
  {
   "cell_type": "code",
   "execution_count": null,
   "metadata": {
    "id": "xhDNIdZiL11H"
   },
   "outputs": [],
   "source": [
    "from tensorflow.keras.preprocessing.image import ImageDataGenerator\n",
    "\n",
    "train_datagen = ImageDataGenerator(rescale=1./255,\n",
    "                                   shear_range =0.2,\n",
    "                                   zoom_range = 0.2,\n",
    "                                   horizontal_flip = True)\n",
    "test_datagen = ImageDataGenerator(rescale=1./255)"
   ]
  },
  {
   "cell_type": "code",
   "execution_count": null,
   "metadata": {
    "colab": {
     "base_uri": "https://localhost:8080/"
    },
    "id": "j8a3_bUUL13L",
    "outputId": "966f104e-d4bc-4c35-8d91-c24dffc55af0"
   },
   "outputs": [],
   "source": [
    "training_set = train_datagen.flow_from_directory('/content/drive/MyDrive/LeafImgDataset/grapes/trainSet/train',\n",
    "                                                 target_size  = (224,224),\n",
    "                                                 batch_size =32,\n",
    "                                                 class_mode ='categorical')"
   ]
  },
  {
   "cell_type": "code",
   "execution_count": null,
   "metadata": {
    "colab": {
     "base_uri": "https://localhost:8080/"
    },
    "id": "31zyaNdZUQCi",
    "outputId": "db8e09f9-99ac-4c49-a2d2-d75f8238d71c"
   },
   "outputs": [],
   "source": [
    "test_set = test_datagen.flow_from_directory('/content/drive/MyDrive/LeafImgDataset/grapes/testSet/test',\n",
    "                                                 target_size  = (224,224),\n",
    "                                                 batch_size =32,\n",
    "                                                 class_mode ='categorical')"
   ]
  },
  {
   "cell_type": "code",
   "execution_count": null,
   "metadata": {
    "colab": {
     "base_uri": "https://localhost:8080/",
     "height": 1000
    },
    "id": "20fYPkBpL15L",
    "outputId": "2e8bb2fa-7153-4340-c45d-583937508338"
   },
   "outputs": [],
   "source": [
    "r = model.fit_generator(\n",
    "    training_set,\n",
    "    validation_data=test_set,\n",
    "    epochs=20,\n",
    "    steps_per_epoch=len(training_set),\n",
    "    validation_steps=len(test_set)\n",
    ")"
   ]
  },
  {
   "cell_type": "code",
   "execution_count": null,
   "metadata": {
    "id": "5zV4Qe5QWREC"
   },
   "outputs": [],
   "source": [
    "def plotImages(images_arr):\n",
    "    fig, axes = plt.subplots(1, 5, figsize=(20, 20))\n",
    "    axes = axes.flatten()\n",
    "    for img, ax in zip(images_arr, axes):\n",
    "        ax.imshow(img)\n",
    "    plt.tight_layout()\n",
    "    plt.show()"
   ]
  },
  {
   "cell_type": "code",
   "execution_count": null,
   "metadata": {
    "id": "9qKjQjMq34Or"
   },
   "outputs": [],
   "source": [
    "training_datagen = ImageDataGenerator(rescale=1./255,\n",
    "                                      rotation_range=40,\n",
    "                                      width_shift_range=0.2,\n",
    "                                      height_shift_range=0.2,\n",
    "                                      shear_range=0.2,\n",
    "                                      zoom_range=0.2,\n",
    "                                      horizontal_flip=True,\n",
    "                                      fill_mode='nearest')\n",
    " "
   ]
  },
  {
   "cell_type": "code",
   "execution_count": null,
   "metadata": {
    "colab": {
     "base_uri": "https://localhost:8080/"
    },
    "id": "qyhwAhXb34Qi",
    "outputId": "1b97bcb3-6266-44ef-afd3-1ac9e24ef93d"
   },
   "outputs": [],
   "source": [
    "# this is a generator that will read pictures found in\n",
    "# at train_data_path, and indefinitely generate\n",
    "# batches of augmented image data\n",
    "training_data = training_datagen.flow_from_directory('/content/drive/MyDrive/LeafImgDataset/grapes/trainSet/train', # this is the target directory\n",
    "                                      target_size=(150, 150), # all images will be resized to 150x150\n",
    "                                      batch_size=32,\n",
    "                                      class_mode='binary')  # since we use binary_crossentropy loss, we need binary labels\n",
    " \n",
    "training_data.class_indices"
   ]
  },
  {
   "cell_type": "code",
   "execution_count": null,
   "metadata": {
    "id": "h-c-LRxh34W0"
   },
   "outputs": [],
   "source": [
    "# this is the augmentation configuration we will use for validation:\n",
    "# only rescaling\n",
    "valid_datagen = ImageDataGenerator(rescale=1./255)"
   ]
  },
  {
   "cell_type": "code",
   "execution_count": null,
   "metadata": {
    "colab": {
     "base_uri": "https://localhost:8080/"
    },
    "id": "b2ULQpEHg17g",
    "outputId": "e0f14b59-a507-4748-d824-65b623a7fb7e"
   },
   "outputs": [],
   "source": [
    "# this is a similar generator, for validation data\n",
    "valid_data = valid_datagen.flow_from_directory('/content/drive/MyDrive/LeafImgDataset/grapes/testSet/test',\n",
    "                                  target_size=(150,150),\n",
    "                                  batch_size=32,\n",
    "                                  class_mode='binary')"
   ]
  },
  {
   "cell_type": "code",
   "execution_count": null,
   "metadata": {
    "colab": {
     "base_uri": "https://localhost:8080/",
     "height": 203
    },
    "id": "F8AEEQ4Dg2Qn",
    "outputId": "278ad233-38d6-40fa-bed4-8a8156a2420d"
   },
   "outputs": [],
   "source": [
    "images = [training_data[0][0][0] for i in range(5)]\n",
    "plotImages(images)\n",
    " "
   ]
  },
  {
   "cell_type": "code",
   "execution_count": null,
   "metadata": {
    "colab": {
     "base_uri": "https://localhost:8080/",
     "height": 217
    },
    "id": "muqtWNO5g2Sd",
    "outputId": "b750225c-f01c-4343-eb7e-dc9178d92267"
   },
   "outputs": [],
   "source": [
    "model_path = '/content/drive/My Drive/My ML Project /DL Project/CNN/cotton plant disease prediction/v3_red_cott_dis.h5'\n",
    "checkpoint = ModelCheckpoint(model_path, monitor='val_accuracy', verbose=1, save_best_only=True, mode='max')\n",
    "callbacks_list = [checkpoint]"
   ]
  },
  {
   "cell_type": "code",
   "execution_count": null,
   "metadata": {
    "id": "rmmLudpGlPKy"
   },
   "outputs": [],
   "source": [
    "cnn_model = keras.models.Sequential([\n",
    "                                    keras.layers.Conv2D(filters=32, kernel_size=3, input_shape=[150, 150, 3]),\n",
    "                                    keras.layers.MaxPooling2D(pool_size=(2,2)),\n",
    "                                    keras.layers.Conv2D(filters=64, kernel_size=3),\n",
    "                                    keras.layers.MaxPooling2D(pool_size=(2,2)),\n",
    "                                    keras.layers.Conv2D(filters=128, kernel_size=3),\n",
    "                                    keras.layers.MaxPooling2D(pool_size=(2,2)),                                    \n",
    "                                    keras.layers.Conv2D(filters=256, kernel_size=3),\n",
    "                                    keras.layers.MaxPooling2D(pool_size=(2,2)),\n",
    " \n",
    "                                    keras.layers.Dropout(0.5),                                                                        \n",
    "                                    keras.layers.Flatten(), # neural network beulding\n",
    "                                    keras.layers.Dense(units=128, activation='relu'), # input layers\n",
    "                                    keras.layers.Dropout(0.1),                                    \n",
    "                                    keras.layers.Dense(units=256, activation='relu'),                                    \n",
    "                                    keras.layers.Dropout(0.25),                                    \n",
    "                                    keras.layers.Dense(units=4, activation='softmax') # output layer\n",
    "])"
   ]
  },
  {
   "cell_type": "code",
   "execution_count": null,
   "metadata": {
    "id": "vl37vA-tlPgC"
   },
   "outputs": [],
   "source": [
    "# compile cnn model\n",
    "cnn_model.compile(optimizer = Adam(lr=0.0001), loss='sparse_categorical_crossentropy', metrics=['accuracy'])\n",
    " \n",
    "# train cnn model\n",
    "history = cnn_model.fit(training_data, \n",
    "                          epochs=500, \n",
    "                          verbose=1, \n",
    "                          validation_data= valid_data,\n",
    "                          callbacks=callbacks_list) # time start 16.06"
   ]
  },
  {
   "cell_type": "code",
   "execution_count": null,
   "metadata": {
    "id": "InlRHqUhobSu"
   },
   "outputs": [],
   "source": [
    "# summarize history for accuracy\n",
    "plt.plot(history.history['accuracy'])\n",
    "plt.plot(history.history['val_accuracy'])\n",
    "plt.title('model accuracy')\n",
    "plt.ylabel('accuracy')\n",
    "plt.xlabel('epoch')\n",
    "plt.legend(['train', 'test'], loc='upper left')\n",
    "plt.show()\n",
    "# summarize history for loss\n",
    "plt.plot(history.history['loss'])\n",
    "plt.plot(history.history['val_loss'])\n",
    "plt.title('model loss')\n",
    "plt.ylabel('loss')\n",
    "plt.xlabel('epoch')\n",
    "plt.legend(['train', 'test'], loc='upper left')\n",
    "plt.show()\n",
    " \n",
    "history.history"
   ]
  },
  {
   "cell_type": "code",
   "execution_count": null,
   "metadata": {
    "id": "TCOi_XRClPiW"
   },
   "outputs": [],
   "source": []
  },
  {
   "cell_type": "code",
   "execution_count": null,
   "metadata": {
    "id": "_VRCubN7lPnF"
   },
   "outputs": [],
   "source": []
  },
  {
   "cell_type": "code",
   "execution_count": null,
   "metadata": {
    "id": "X9_FrysglPo3"
   },
   "outputs": [],
   "source": []
  },
  {
   "cell_type": "code",
   "execution_count": null,
   "metadata": {
    "id": "yJyUBMHhlSe6"
   },
   "outputs": [],
   "source": []
  },
  {
   "cell_type": "code",
   "execution_count": null,
   "metadata": {
    "id": "zCc1UIxylSh3"
   },
   "outputs": [],
   "source": []
  },
  {
   "cell_type": "code",
   "execution_count": null,
   "metadata": {
    "id": "0DABFiJ8g2VH"
   },
   "outputs": [],
   "source": []
  },
  {
   "cell_type": "code",
   "execution_count": null,
   "metadata": {
    "id": "ya3DLqhzg2Zk"
   },
   "outputs": [],
   "source": []
  },
  {
   "cell_type": "markdown",
   "metadata": {
    "id": "KQRuRzjL30gG"
   },
   "source": [
    "# New Section"
   ]
  },
  {
   "cell_type": "markdown",
   "metadata": {
    "id": "asNXV8YM3162"
   },
   "source": [
    "# New Section"
   ]
  },
  {
   "cell_type": "code",
   "execution_count": null,
   "metadata": {
    "id": "TRhC7JHEWRF-"
   },
   "outputs": [],
   "source": []
  },
  {
   "cell_type": "code",
   "execution_count": null,
   "metadata": {
    "id": "WKZd_DHfWRJl"
   },
   "outputs": [],
   "source": []
  },
  {
   "cell_type": "code",
   "execution_count": null,
   "metadata": {
    "id": "BlhuvHV2L19C"
   },
   "outputs": [],
   "source": []
  }
 ],
 "metadata": {
  "accelerator": "GPU",
  "colab": {
   "collapsed_sections": [],
   "name": "Untitled0.ipynb",
   "provenance": []
  },
  "kernelspec": {
   "display_name": "Python 3",
   "language": "python",
   "name": "python3"
  },
  "language_info": {
   "codemirror_mode": {
    "name": "ipython",
    "version": 3
   },
   "file_extension": ".py",
   "mimetype": "text/x-python",
   "name": "python",
   "nbconvert_exporter": "python",
   "pygments_lexer": "ipython3",
   "version": "3.8.8"
  }
 },
 "nbformat": 4,
 "nbformat_minor": 1
}
